{
 "cells": [
  {
   "cell_type": "code",
   "execution_count": 1,
   "metadata": {
    "ExecuteTime": {
     "end_time": "2018-11-18T19:08:48.889176Z",
     "start_time": "2018-11-18T19:08:43.345422Z"
    }
   },
   "outputs": [
    {
     "data": {
      "application/vnd.jupyter.widget-view+json": {
       "model_id": "285614e38e024ce3b1d65fac50fa9a16",
       "version_major": 2,
       "version_minor": 0
      },
      "text/plain": [
       "HBox(children=(IntProgress(value=0, description='1st loop', max=5, style=ProgressStyle(description_width='init…"
      ]
     },
     "metadata": {},
     "output_type": "display_data"
    },
    {
     "data": {
      "application/vnd.jupyter.widget-view+json": {
       "model_id": "60b5af9fc06d4ef59f8c6e277ac52fef",
       "version_major": 2,
       "version_minor": 0
      },
      "text/plain": [
       "HBox(children=(IntProgress(value=0, description='2nd loop', style=ProgressStyle(description_width='initial')),…"
      ]
     },
     "metadata": {},
     "output_type": "display_data"
    },
    {
     "data": {
      "application/vnd.jupyter.widget-view+json": {
       "model_id": "af80a09d930849ea95a893df8a820e6b",
       "version_major": 2,
       "version_minor": 0
      },
      "text/plain": [
       "HBox(children=(IntProgress(value=0, description='2nd loop', style=ProgressStyle(description_width='initial')),…"
      ]
     },
     "metadata": {},
     "output_type": "display_data"
    },
    {
     "data": {
      "application/vnd.jupyter.widget-view+json": {
       "model_id": "b43e4f344bed47eabf1ff98794cdf897",
       "version_major": 2,
       "version_minor": 0
      },
      "text/plain": [
       "HBox(children=(IntProgress(value=0, description='2nd loop', style=ProgressStyle(description_width='initial')),…"
      ]
     },
     "metadata": {},
     "output_type": "display_data"
    },
    {
     "data": {
      "application/vnd.jupyter.widget-view+json": {
       "model_id": "7d0cebfc1c1643b990469d2e248bfb8b",
       "version_major": 2,
       "version_minor": 0
      },
      "text/plain": [
       "HBox(children=(IntProgress(value=0, description='2nd loop', style=ProgressStyle(description_width='initial')),…"
      ]
     },
     "metadata": {},
     "output_type": "display_data"
    },
    {
     "data": {
      "application/vnd.jupyter.widget-view+json": {
       "model_id": "7b45d157927d45c692ec8acf72c3f640",
       "version_major": 2,
       "version_minor": 0
      },
      "text/plain": [
       "HBox(children=(IntProgress(value=0, description='2nd loop', style=ProgressStyle(description_width='initial')),…"
      ]
     },
     "metadata": {},
     "output_type": "display_data"
    },
    {
     "name": "stdout",
     "output_type": "stream",
     "text": [
      "\n"
     ]
    }
   ],
   "source": [
    "from tqdm import tnrange, tqdm_notebook\n",
    "from time import sleep\n",
    "\n",
    "for i in tnrange(5, desc='1st loop'):\n",
    "    for j in tqdm_notebook(range(100), desc='2nd loop'):\n",
    "        sleep(0.01)"
   ]
  },
  {
   "cell_type": "code",
   "execution_count": 2,
   "metadata": {
    "ExecuteTime": {
     "end_time": "2018-11-18T19:08:53.237956Z",
     "start_time": "2018-11-18T19:08:48.900688Z"
    }
   },
   "outputs": [
    {
     "data": {
      "application/vnd.jupyter.widget-view+json": {
       "model_id": "4b17a5dcdebe4e61ab576265eafe2f42",
       "version_major": 2,
       "version_minor": 0
      },
      "text/plain": [
       "HBox(children=(IntProgress(value=1, bar_style='info', description='1st loop', max=1, style=ProgressStyle(descr…"
      ]
     },
     "metadata": {},
     "output_type": "display_data"
    },
    {
     "data": {
      "application/vnd.jupyter.widget-view+json": {
       "model_id": "",
       "version_major": 2,
       "version_minor": 0
      },
      "text/plain": [
       "HBox(children=(IntProgress(value=1, bar_style='info', description='2nd loop', max=1, style=ProgressStyle(descr…"
      ]
     },
     "metadata": {},
     "output_type": "display_data"
    },
    {
     "data": {
      "application/vnd.jupyter.widget-view+json": {
       "model_id": "",
       "version_major": 2,
       "version_minor": 0
      },
      "text/plain": [
       "HBox(children=(IntProgress(value=1, bar_style='info', description='2nd loop', max=1, style=ProgressStyle(descr…"
      ]
     },
     "metadata": {},
     "output_type": "display_data"
    },
    {
     "data": {
      "application/vnd.jupyter.widget-view+json": {
       "model_id": "",
       "version_major": 2,
       "version_minor": 0
      },
      "text/plain": [
       "HBox(children=(IntProgress(value=1, bar_style='info', description='2nd loop', max=1, style=ProgressStyle(descr…"
      ]
     },
     "metadata": {},
     "output_type": "display_data"
    },
    {
     "data": {
      "application/vnd.jupyter.widget-view+json": {
       "model_id": "",
       "version_major": 2,
       "version_minor": 0
      },
      "text/plain": [
       "HBox(children=(IntProgress(value=1, bar_style='info', description='2nd loop', max=1, style=ProgressStyle(descr…"
      ]
     },
     "metadata": {},
     "output_type": "display_data"
    },
    {
     "name": "stdout",
     "output_type": "stream",
     "text": [
      "\n"
     ]
    }
   ],
   "source": [
    "from tqdm import tnrange, tqdm_notebook\n",
    "from time import sleep\n",
    "\n",
    "def xrange(x):\n",
    "    return iter(range(x))\n",
    "\n",
    "for i in tqdm_notebook(xrange(4),  desc='1st loop'):\n",
    "    for j in tqdm_notebook(xrange(100), desc='2nd loop', leave=False):\n",
    "        sleep(0.01)"
   ]
  },
  {
   "cell_type": "code",
   "execution_count": 3,
   "metadata": {
    "ExecuteTime": {
     "end_time": "2018-11-18T19:08:53.271620Z",
     "start_time": "2018-11-18T19:08:53.246962Z"
    },
    "code_folding": []
   },
   "outputs": [
    {
     "data": {
      "application/vnd.jupyter.widget-view+json": {
       "model_id": "e846609e7cd247348f8d4512c0ff9795",
       "version_major": 2,
       "version_minor": 0
      },
      "text/plain": [
       "Dropdown(description='Number:', index=1, options=('1', '2', '3'), value='2')"
      ]
     },
     "metadata": {},
     "output_type": "display_data"
    }
   ],
   "source": [
    "import ipywidgets as widgets\n",
    "\n",
    "widgets.Dropdown(\n",
    "    options=['1', '2', '3'],\n",
    "    value='2',\n",
    "    description='Number:',\n",
    "    disabled=False,\n",
    ")"
   ]
  },
  {
   "cell_type": "code",
   "execution_count": 4,
   "metadata": {
    "ExecuteTime": {
     "end_time": "2018-11-18T19:08:53.286719Z",
     "start_time": "2018-11-18T19:08:53.273753Z"
    },
    "code_folding": []
   },
   "outputs": [
    {
     "data": {
      "application/vnd.jupyter.widget-view+json": {
       "model_id": "6032e92584c94215b72b454d28525cef",
       "version_major": 2,
       "version_minor": 0
      },
      "text/plain": [
       "IntSlider(value=7, continuous_update=False, description='Test:', max=10)"
      ]
     },
     "metadata": {},
     "output_type": "display_data"
    }
   ],
   "source": [
    "widgets.IntSlider(\n",
    "    value=7,\n",
    "    min=0,\n",
    "    max=10,\n",
    "    step=1,\n",
    "    description='Test:',\n",
    "    disabled=False,\n",
    "    continuous_update=False,\n",
    "    orientation='horizontal',\n",
    "    readout=True,\n",
    "    readout_format='d'\n",
    ")"
   ]
  }
 ],
 "metadata": {
  "kernelspec": {
   "display_name": "Python 3",
   "language": "python",
   "name": "python3"
  },
  "language_info": {
   "codemirror_mode": {
    "name": "ipython",
    "version": 3
   },
   "file_extension": ".py",
   "mimetype": "text/x-python",
   "name": "python",
   "nbconvert_exporter": "python",
   "pygments_lexer": "ipython3",
   "version": "3.6.6"
  },
  "notify_time": "5",
  "toc": {
   "base_numbering": 1,
   "nav_menu": {},
   "number_sections": true,
   "sideBar": true,
   "skip_h1_title": false,
   "title_cell": "Table of Contents",
   "title_sidebar": "Contents",
   "toc_cell": false,
   "toc_position": {},
   "toc_section_display": true,
   "toc_window_display": false
  },
  "varInspector": {
   "cols": {
    "lenName": 16,
    "lenType": 16,
    "lenVar": 40
   },
   "kernels_config": {
    "python": {
     "delete_cmd_postfix": "",
     "delete_cmd_prefix": "del ",
     "library": "var_list.py",
     "varRefreshCmd": "print(var_dic_list())"
    },
    "r": {
     "delete_cmd_postfix": ") ",
     "delete_cmd_prefix": "rm(",
     "library": "var_list.r",
     "varRefreshCmd": "cat(var_dic_list()) "
    }
   },
   "oldHeight": 331,
   "position": {
    "height": "353px",
    "left": "1562px",
    "right": "20px",
    "top": "120px",
    "width": "338px"
   },
   "types_to_exclude": [
    "module",
    "function",
    "builtin_function_or_method",
    "instance",
    "_Feature"
   ],
   "varInspector_section_display": "block",
   "window_display": false
  },
  "widgets": {
   "application/vnd.jupyter.widget-state+json": {
    "state": {
     "00bf2109aad34ae7834a7ca638ffce7e": {
      "model_module": "@jupyter-widgets/base",
      "model_module_version": "1.1.0",
      "model_name": "LayoutModel",
      "state": {}
     },
     "01177c7d923944c3a8d0833d643fbc51": {
      "model_module": "@jupyter-widgets/base",
      "model_module_version": "1.1.0",
      "model_name": "LayoutModel",
      "state": {}
     },
     "02d2be91f4d940f983a72103d3e10f31": {
      "model_module": "@jupyter-widgets/controls",
      "model_module_version": "1.4.0",
      "model_name": "IntProgressModel",
      "state": {
       "bar_style": "info",
       "description": "2nd loop",
       "layout": "IPY_MODEL_88d146245ec646ea8e7e6c748001bc64",
       "max": 1,
       "style": "IPY_MODEL_7427ddc79c7b4167b73bfa93f33a24e8",
       "value": 1
      }
     },
     "0381da64e1d34b45a59b05d09017bc42": {
      "model_module": "@jupyter-widgets/controls",
      "model_module_version": "1.4.0",
      "model_name": "ProgressStyleModel",
      "state": {
       "description_width": "initial"
      }
     },
     "03ca7c7c8c154dd99b28bac964a923b6": {
      "model_module": "@jupyter-widgets/controls",
      "model_module_version": "1.4.0",
      "model_name": "IntProgressModel",
      "state": {
       "bar_style": "success",
       "description": "2nd loop",
       "layout": "IPY_MODEL_2576cf2f7dd943549faeb44dc7624da1",
       "style": "IPY_MODEL_7ed60fcd7ce84e46bebfbd0d635d993e",
       "value": 100
      }
     },
     "040ca401edcc4680af4aaf22678b9aaa": {
      "model_module": "@jupyter-widgets/controls",
      "model_module_version": "1.4.0",
      "model_name": "DropdownModel",
      "state": {
       "_options_labels": [
        "1",
        "2",
        "3"
       ],
       "description": "Number:",
       "index": 1,
       "layout": "IPY_MODEL_9da9c81da64541f2b265ccae6e9b5b1f",
       "style": "IPY_MODEL_61209e7a948343058dc2b0d2e166ef02"
      }
     },
     "043fa5f16bae4d0ebc1a870d2d1ea699": {
      "model_module": "@jupyter-widgets/controls",
      "model_module_version": "1.4.0",
      "model_name": "IntProgressModel",
      "state": {
       "bar_style": "success",
       "description": "2nd loop",
       "layout": "IPY_MODEL_92429cbd56f44cf5b94b92fb062a73e3",
       "style": "IPY_MODEL_ac7fab871a5f4a4089f0ac1174f6c720",
       "value": 100
      }
     },
     "048146510a15427a98074df2d9659d5b": {
      "model_module": "@jupyter-widgets/controls",
      "model_module_version": "1.4.0",
      "model_name": "ProgressStyleModel",
      "state": {
       "description_width": "initial"
      }
     },
     "0509ca108d4d4230b04f70afc0516ba0": {
      "model_module": "@jupyter-widgets/base",
      "model_module_version": "1.1.0",
      "model_name": "LayoutModel",
      "state": {}
     },
     "06b195ae444f4643b011681891435a7c": {
      "model_module": "@jupyter-widgets/base",
      "model_module_version": "1.1.0",
      "model_name": "LayoutModel",
      "state": {}
     },
     "075089bba14b4a72ab95690de4fed2f3": {
      "model_module": "@jupyter-widgets/controls",
      "model_module_version": "1.4.0",
      "model_name": "HTMLModel",
      "state": {
       "layout": "IPY_MODEL_396580d33707467b94815e93a754a9a0",
       "style": "IPY_MODEL_8c31d46a2cbd401289d123c5f88ff63e",
       "value": "98it [00:01, 97.12it/s]"
      }
     },
     "07bfc6af6ca74c098b874c9aff8201ed": {
      "model_module": "@jupyter-widgets/controls",
      "model_module_version": "1.4.0",
      "model_name": "DescriptionStyleModel",
      "state": {
       "description_width": ""
      }
     },
     "07ec124d89704c5d83d30e1ded31a50d": {
      "model_module": "@jupyter-widgets/controls",
      "model_module_version": "1.4.0",
      "model_name": "ProgressStyleModel",
      "state": {
       "description_width": "initial"
      }
     },
     "082372dc21e94a49a5e96360d21e746d": {
      "model_module": "@jupyter-widgets/base",
      "model_module_version": "1.1.0",
      "model_name": "LayoutModel",
      "state": {}
     },
     "099d06e84e784516b700688318e75768": {
      "model_module": "@jupyter-widgets/controls",
      "model_module_version": "1.4.0",
      "model_name": "ProgressStyleModel",
      "state": {
       "description_width": "initial"
      }
     },
     "0beb11165bc04833960d88bf4bc80873": {
      "model_module": "@jupyter-widgets/controls",
      "model_module_version": "1.4.0",
      "model_name": "IntProgressModel",
      "state": {
       "bar_style": "success",
       "description": "2nd loop",
       "layout": "IPY_MODEL_729dc90305684b09af820695a9102c69",
       "style": "IPY_MODEL_588f957b4c5446708d6c0e6ecb94611b",
       "value": 100
      }
     },
     "0bedd0a0591d40329b96f7fe46f5aca5": {
      "model_module": "@jupyter-widgets/controls",
      "model_module_version": "1.4.0",
      "model_name": "ProgressStyleModel",
      "state": {
       "description_width": "initial"
      }
     },
     "0c1a78e4fe294daebbcf6585faf18c30": {
      "model_module": "@jupyter-widgets/base",
      "model_module_version": "1.1.0",
      "model_name": "LayoutModel",
      "state": {}
     },
     "0c8bcccfad77429ea084814e383199cd": {
      "model_module": "@jupyter-widgets/base",
      "model_module_version": "1.1.0",
      "model_name": "LayoutModel",
      "state": {}
     },
     "0cb645b4ff7d4b01ba187f86b3065dbe": {
      "model_module": "@jupyter-widgets/controls",
      "model_module_version": "1.4.0",
      "model_name": "DescriptionStyleModel",
      "state": {
       "description_width": ""
      }
     },
     "0d87c7c0f9894409b7a2e7cc40bf7837": {
      "model_module": "@jupyter-widgets/controls",
      "model_module_version": "1.4.0",
      "model_name": "ProgressStyleModel",
      "state": {
       "description_width": "initial"
      }
     },
     "0f55332f513a4e148433ad4b6fad191b": {
      "model_module": "@jupyter-widgets/controls",
      "model_module_version": "1.4.0",
      "model_name": "HTMLModel",
      "state": {
       "layout": "IPY_MODEL_53b68ab903ba410e95381a461a911599",
       "style": "IPY_MODEL_790c27e188c244e4a053086ffe26f8d3",
       "value": "100% 100/100 [00:01&lt;00:00, 87.27it/s]"
      }
     },
     "104efb8d9d2840d492aba3ac4fc3f41c": {
      "model_module": "@jupyter-widgets/base",
      "model_module_version": "1.1.0",
      "model_name": "LayoutModel",
      "state": {}
     },
     "123c4540922448298abbe6a85d4d0257": {
      "model_module": "@jupyter-widgets/controls",
      "model_module_version": "1.4.0",
      "model_name": "DescriptionStyleModel",
      "state": {
       "description_width": ""
      }
     },
     "12560532ddaa45b7854a32036457c017": {
      "model_module": "@jupyter-widgets/base",
      "model_module_version": "1.1.0",
      "model_name": "LayoutModel",
      "state": {}
     },
     "1368cd4021ce49a5b5838ed798645616": {
      "model_module": "@jupyter-widgets/controls",
      "model_module_version": "1.4.0",
      "model_name": "DescriptionStyleModel",
      "state": {
       "description_width": ""
      }
     },
     "1393dd5a7a74485c9bb1432066120e28": {
      "model_module": "@jupyter-widgets/controls",
      "model_module_version": "1.4.0",
      "model_name": "HTMLModel",
      "state": {
       "layout": "IPY_MODEL_7093bc9555b140928aa92cb55c67d89f",
       "style": "IPY_MODEL_6869a19d005a4ff39b733ae785db5213",
       "value": "100% 100/100 [00:01&lt;00:00, 96.15it/s]"
      }
     },
     "139ee0bc92bd4432859d233a674d1c11": {
      "model_module": "@jupyter-widgets/controls",
      "model_module_version": "1.4.0",
      "model_name": "ProgressStyleModel",
      "state": {
       "description_width": "initial"
      }
     },
     "13b53ffb2a464552a69f238737a24583": {
      "model_module": "@jupyter-widgets/controls",
      "model_module_version": "1.4.0",
      "model_name": "DescriptionStyleModel",
      "state": {
       "description_width": ""
      }
     },
     "143aeb21a4bc4e75a859733117c05f7b": {
      "model_module": "@jupyter-widgets/controls",
      "model_module_version": "1.4.0",
      "model_name": "HTMLModel",
      "state": {
       "layout": "IPY_MODEL_2d06236a62eb4a63a57624c9bee25ff8",
       "style": "IPY_MODEL_a58828b0e36046729567bd35e9683298",
       "value": "91it [00:01, 71.30it/s]"
      }
     },
     "1443da52a4e444db93fa98eb53ac0804": {
      "model_module": "@jupyter-widgets/controls",
      "model_module_version": "1.4.0",
      "model_name": "IntProgressModel",
      "state": {
       "bar_style": "success",
       "description": "2nd loop",
       "layout": "IPY_MODEL_dd04de7c33b445e0ae0e553f43094717",
       "style": "IPY_MODEL_c24607bed4914bb2b2e9a9c47af016d4",
       "value": 100
      }
     },
     "14533162d054469eb77de1b55195de0a": {
      "model_module": "@jupyter-widgets/controls",
      "model_module_version": "1.4.0",
      "model_name": "HBoxModel",
      "state": {
       "children": [
        "IPY_MODEL_70d99b359fd24ad6b2840ad95abb9a50",
        "IPY_MODEL_ed30abe4c6f84760824b1af983da41e3"
       ],
       "layout": "IPY_MODEL_d7ff2c774697467886ac1127261b854d"
      }
     },
     "1489fbdf76284fa5a3a628b88b95ff19": {
      "model_module": "@jupyter-widgets/controls",
      "model_module_version": "1.4.0",
      "model_name": "IntProgressModel",
      "state": {
       "bar_style": "info",
       "description": "2nd loop",
       "layout": "IPY_MODEL_dffef6c564244142ac1ae30f8e113526",
       "max": 1,
       "style": "IPY_MODEL_0bedd0a0591d40329b96f7fe46f5aca5",
       "value": 1
      }
     },
     "14b1bae1068d4f13860fbcb1eadeb102": {
      "model_module": "@jupyter-widgets/base",
      "model_module_version": "1.1.0",
      "model_name": "LayoutModel",
      "state": {}
     },
     "1596496cebb34f37a332aa9ee058456b": {
      "model_module": "@jupyter-widgets/base",
      "model_module_version": "1.1.0",
      "model_name": "LayoutModel",
      "state": {}
     },
     "15c3743d88eb406aa16d8a2056391559": {
      "model_module": "@jupyter-widgets/controls",
      "model_module_version": "1.4.0",
      "model_name": "HBoxModel",
      "state": {
       "children": [
        "IPY_MODEL_f1ff5c04d3de41d6b5404845df23cb49",
        "IPY_MODEL_f98a661e30fb4b579db36901aa101ff0"
       ],
       "layout": "IPY_MODEL_f8ee957b8ffa4576aea15d8f3f2f8e3a"
      }
     },
     "15dbf8924b244c57bda8702ed3f7d588": {
      "model_module": "@jupyter-widgets/controls",
      "model_module_version": "1.4.0",
      "model_name": "DescriptionStyleModel",
      "state": {
       "description_width": ""
      }
     },
     "1695f2f590884edf8dc34f18f4aa0c16": {
      "model_module": "@jupyter-widgets/controls",
      "model_module_version": "1.4.0",
      "model_name": "IntProgressModel",
      "state": {
       "bar_style": "info",
       "description": "2nd loop",
       "layout": "IPY_MODEL_3f95279908fa47c1995729b3d950f271",
       "max": 1,
       "style": "IPY_MODEL_72f6deece6804f9f8772429ad34c3bcf",
       "value": 1
      }
     },
     "177caa04860e4468906b01192095214a": {
      "model_module": "@jupyter-widgets/controls",
      "model_module_version": "1.4.0",
      "model_name": "IntProgressModel",
      "state": {
       "bar_style": "info",
       "description": "2nd loop",
       "layout": "IPY_MODEL_104efb8d9d2840d492aba3ac4fc3f41c",
       "max": 1,
       "style": "IPY_MODEL_35993374a6884e8a8bc8896735cb6d3a",
       "value": 1
      }
     },
     "185177da068f46538349c94840ab3f05": {
      "model_module": "@jupyter-widgets/controls",
      "model_module_version": "1.4.0",
      "model_name": "ProgressStyleModel",
      "state": {
       "description_width": "initial"
      }
     },
     "186802499d4441d083fac38a0118bd1d": {
      "model_module": "@jupyter-widgets/base",
      "model_module_version": "1.1.0",
      "model_name": "LayoutModel",
      "state": {}
     },
     "186c54554a854350a0be089ee3fefaeb": {
      "model_module": "@jupyter-widgets/controls",
      "model_module_version": "1.4.0",
      "model_name": "DescriptionStyleModel",
      "state": {
       "description_width": ""
      }
     },
     "1a9b7672be85402e9cd26d69ddee6395": {
      "model_module": "@jupyter-widgets/controls",
      "model_module_version": "1.4.0",
      "model_name": "DropdownModel",
      "state": {
       "_options_labels": [
        "1",
        "2",
        "3"
       ],
       "description": "Number:",
       "index": 1,
       "layout": "IPY_MODEL_01177c7d923944c3a8d0833d643fbc51",
       "style": "IPY_MODEL_a21f473faf3747649ce510395b717485"
      }
     },
     "1c3d0106de5340d58e4782069ac1e7d4": {
      "model_module": "@jupyter-widgets/base",
      "model_module_version": "1.1.0",
      "model_name": "LayoutModel",
      "state": {}
     },
     "1cc78407eb34464d8baff243c53e10ba": {
      "model_module": "@jupyter-widgets/controls",
      "model_module_version": "1.4.0",
      "model_name": "IntSliderModel",
      "state": {
       "continuous_update": false,
       "description": "Test:",
       "layout": "IPY_MODEL_cf63f9ce054f4a99b5f3f77033b273b6",
       "max": 10,
       "style": "IPY_MODEL_f433d640ec7b41628d5574b864bbbcaa",
       "value": 2
      }
     },
     "1dd0f52f1a544d85a66f23ad0ec26034": {
      "model_module": "@jupyter-widgets/controls",
      "model_module_version": "1.4.0",
      "model_name": "IntProgressModel",
      "state": {
       "bar_style": "success",
       "description": "1st loop",
       "layout": "IPY_MODEL_926df8af5a334cab8ac9a2e942f9cef2",
       "max": 10,
       "style": "IPY_MODEL_33c8b3fce1644d2d8dee24fcec63ba67",
       "value": 10
      }
     },
     "1e4debaab95043beb7c7d7e0c563ca1e": {
      "model_module": "@jupyter-widgets/controls",
      "model_module_version": "1.4.0",
      "model_name": "SliderStyleModel",
      "state": {
       "description_width": ""
      }
     },
     "1ec4cb0240d74441adbcfeb49dee989a": {
      "model_module": "@jupyter-widgets/controls",
      "model_module_version": "1.4.0",
      "model_name": "IntProgressModel",
      "state": {
       "bar_style": "info",
       "description": "2nd loop",
       "layout": "IPY_MODEL_e396e5658e2b4a9085bb1c4b8c087434",
       "max": 1,
       "style": "IPY_MODEL_be978802926c4d59ae11fe62caa7a317",
       "value": 1
      }
     },
     "1fadd117e9004e9da1aef7a6ee95cd2e": {
      "model_module": "@jupyter-widgets/base",
      "model_module_version": "1.1.0",
      "model_name": "LayoutModel",
      "state": {}
     },
     "1fb87319b54e465f8af2608c8a107c63": {
      "model_module": "@jupyter-widgets/controls",
      "model_module_version": "1.4.0",
      "model_name": "DropdownModel",
      "state": {
       "_options_labels": [
        "1",
        "2",
        "3"
       ],
       "description": "Number:",
       "index": 1,
       "layout": "IPY_MODEL_bc005d6013234e04bd58b3a07950bfa7",
       "style": "IPY_MODEL_e25a11758ad14c509bfb41bd6bc136da"
      }
     },
     "200ef2d2bbdb42de9fb3274c9f0b6f1b": {
      "model_module": "@jupyter-widgets/controls",
      "model_module_version": "1.4.0",
      "model_name": "IntProgressModel",
      "state": {
       "bar_style": "success",
       "description": "2nd loop",
       "layout": "IPY_MODEL_00bf2109aad34ae7834a7ca638ffce7e",
       "style": "IPY_MODEL_b0f745a5f3ff40fda777ee12f95917f0",
       "value": 100
      }
     },
     "215e14d2e15041d384383f47fe306c7f": {
      "model_module": "@jupyter-widgets/base",
      "model_module_version": "1.1.0",
      "model_name": "LayoutModel",
      "state": {}
     },
     "21a9f56e8d044d8191bdaf2867907085": {
      "model_module": "@jupyter-widgets/controls",
      "model_module_version": "1.4.0",
      "model_name": "IntProgressModel",
      "state": {
       "bar_style": "success",
       "description": "2nd loop",
       "layout": "IPY_MODEL_fd3d821d014c475c8991842e4b0ea4a7",
       "style": "IPY_MODEL_b3a40c4b01244c6fbd47faf273629649",
       "value": 100
      }
     },
     "222554ffbce542cb89a332405107ff96": {
      "model_module": "@jupyter-widgets/controls",
      "model_module_version": "1.4.0",
      "model_name": "HBoxModel",
      "state": {
       "children": [
        "IPY_MODEL_3e3bdb0311ba4ec898fbcceee412bb31",
        "IPY_MODEL_81ea4eabfa0f4815b047524946e5a5d2"
       ],
       "layout": "IPY_MODEL_ef3e623141a34e57aceb7d6db6d6316b"
      }
     },
     "2233bc26463a46faa10c192a929587cc": {
      "model_module": "@jupyter-widgets/base",
      "model_module_version": "1.1.0",
      "model_name": "LayoutModel",
      "state": {}
     },
     "23a7572b03cf4394b15476b1c9ea96c4": {
      "model_module": "@jupyter-widgets/base",
      "model_module_version": "1.1.0",
      "model_name": "LayoutModel",
      "state": {}
     },
     "2433dfc805f3424f950ba1a129ab8285": {
      "model_module": "@jupyter-widgets/base",
      "model_module_version": "1.1.0",
      "model_name": "LayoutModel",
      "state": {}
     },
     "24c8476ed04b45ecb78610f1f8b81aef": {
      "model_module": "@jupyter-widgets/base",
      "model_module_version": "1.1.0",
      "model_name": "LayoutModel",
      "state": {}
     },
     "24e5022841a24d7c8d38780010487593": {
      "model_module": "@jupyter-widgets/base",
      "model_module_version": "1.1.0",
      "model_name": "LayoutModel",
      "state": {}
     },
     "25039294e2764848b4e0e08afc457ca5": {
      "model_module": "@jupyter-widgets/controls",
      "model_module_version": "1.4.0",
      "model_name": "IntProgressModel",
      "state": {
       "bar_style": "info",
       "description": "2nd loop",
       "layout": "IPY_MODEL_2f903a1014d847578d31bf55fcd6ff41",
       "max": 1,
       "style": "IPY_MODEL_a31e3a61be6f446e9479f225b470d546",
       "value": 1
      }
     },
     "2576cf2f7dd943549faeb44dc7624da1": {
      "model_module": "@jupyter-widgets/base",
      "model_module_version": "1.1.0",
      "model_name": "LayoutModel",
      "state": {}
     },
     "2597f90a84ba49a1a10ee49204ea2324": {
      "model_module": "@jupyter-widgets/controls",
      "model_module_version": "1.4.0",
      "model_name": "ProgressStyleModel",
      "state": {
       "description_width": "initial"
      }
     },
     "25ae02571ecb410da6b695f92ce2ddf4": {
      "model_module": "@jupyter-widgets/base",
      "model_module_version": "1.1.0",
      "model_name": "LayoutModel",
      "state": {}
     },
     "25b75b99a2ad46cfa082f2303193806b": {
      "model_module": "@jupyter-widgets/base",
      "model_module_version": "1.1.0",
      "model_name": "LayoutModel",
      "state": {}
     },
     "2731bcefb2a74dcaadd97458020af23c": {
      "model_module": "@jupyter-widgets/controls",
      "model_module_version": "1.4.0",
      "model_name": "ProgressStyleModel",
      "state": {
       "description_width": "initial"
      }
     },
     "275fcc31daad42ea99f94cbc40840dee": {
      "model_module": "@jupyter-widgets/base",
      "model_module_version": "1.1.0",
      "model_name": "LayoutModel",
      "state": {}
     },
     "276e0c735c49497e88f05834019e5b91": {
      "model_module": "@jupyter-widgets/base",
      "model_module_version": "1.1.0",
      "model_name": "LayoutModel",
      "state": {}
     },
     "279252b92c5947ee86f226a5dd26fba3": {
      "model_module": "@jupyter-widgets/controls",
      "model_module_version": "1.4.0",
      "model_name": "ProgressStyleModel",
      "state": {
       "description_width": "initial"
      }
     },
     "2867ca995d0b4ea5878aaaca44f3206c": {
      "model_module": "@jupyter-widgets/base",
      "model_module_version": "1.1.0",
      "model_name": "LayoutModel",
      "state": {}
     },
     "291e568c149445588307c08caab03149": {
      "model_module": "@jupyter-widgets/base",
      "model_module_version": "1.1.0",
      "model_name": "LayoutModel",
      "state": {}
     },
     "29ff00ca3d944efab7b76e325d66b06d": {
      "model_module": "@jupyter-widgets/controls",
      "model_module_version": "1.4.0",
      "model_name": "HTMLModel",
      "state": {
       "layout": "IPY_MODEL_760c143c0a604a6992a5feaeaae13291",
       "style": "IPY_MODEL_80b1cbb7d23e49ecaaf22740a4ac8fc4",
       "value": "4it [00:04,  1.16s/it]"
      }
     },
     "2a21cb66bd134dfd96190f82638834d9": {
      "model_module": "@jupyter-widgets/controls",
      "model_module_version": "1.4.0",
      "model_name": "DescriptionStyleModel",
      "state": {
       "description_width": ""
      }
     },
     "2ad47021421b4689b2ef650b6a0b2410": {
      "model_module": "@jupyter-widgets/base",
      "model_module_version": "1.1.0",
      "model_name": "LayoutModel",
      "state": {}
     },
     "2b7e29b08f4e40d1bc8bec84b42ee5ab": {
      "model_module": "@jupyter-widgets/base",
      "model_module_version": "1.1.0",
      "model_name": "LayoutModel",
      "state": {}
     },
     "2be51b214a4e4e5fab32228292f1b8bd": {
      "model_module": "@jupyter-widgets/base",
      "model_module_version": "1.1.0",
      "model_name": "LayoutModel",
      "state": {}
     },
     "2d06236a62eb4a63a57624c9bee25ff8": {
      "model_module": "@jupyter-widgets/base",
      "model_module_version": "1.1.0",
      "model_name": "LayoutModel",
      "state": {}
     },
     "2df8d2d745234700821c728125c1616f": {
      "model_module": "@jupyter-widgets/base",
      "model_module_version": "1.1.0",
      "model_name": "LayoutModel",
      "state": {}
     },
     "2e46e3c3a8da4e1cb6313a101f9299ae": {
      "model_module": "@jupyter-widgets/controls",
      "model_module_version": "1.4.0",
      "model_name": "HBoxModel",
      "state": {
       "children": [
        "IPY_MODEL_41e67949aeea451e918d11598b5757e3",
        "IPY_MODEL_9002f233d4e74a068dbf441931f591bd"
       ],
       "layout": "IPY_MODEL_bb2a293608b64e058e20c89af7bc88bf"
      }
     },
     "2e48fec213c74cba970c0a8abf39cc49": {
      "model_module": "@jupyter-widgets/controls",
      "model_module_version": "1.4.0",
      "model_name": "DescriptionStyleModel",
      "state": {
       "description_width": ""
      }
     },
     "2e634c5e65d24782b1baa8b282cb661f": {
      "model_module": "@jupyter-widgets/controls",
      "model_module_version": "1.4.0",
      "model_name": "IntProgressModel",
      "state": {
       "bar_style": "success",
       "description": "1st loop",
       "layout": "IPY_MODEL_b0a95ea553574caaa92b23b45c772237",
       "max": 10,
       "style": "IPY_MODEL_dc01c8b9bbba4dfd97e90f6a422b58aa",
       "value": 10
      }
     },
     "2e785333e94847fa866057363e176abb": {
      "model_module": "@jupyter-widgets/controls",
      "model_module_version": "1.4.0",
      "model_name": "HTMLModel",
      "state": {
       "layout": "IPY_MODEL_4cf369beb95842f49766d6d4724ab89d",
       "style": "IPY_MODEL_dd51140f1ecb40d49758fb171b99ee81",
       "value": "100% 100/100 [00:01&lt;00:00, 87.04it/s]"
      }
     },
     "2f0822934b834fa49b103029ff53a63a": {
      "model_module": "@jupyter-widgets/controls",
      "model_module_version": "1.4.0",
      "model_name": "HTMLModel",
      "state": {
       "layout": "IPY_MODEL_14b1bae1068d4f13860fbcb1eadeb102",
       "style": "IPY_MODEL_90cf5639f7ed4b9ea41bdfe04450e0e9",
       "value": "100% 100/100 [00:01&lt;00:00, 96.07it/s]"
      }
     },
     "2f903a1014d847578d31bf55fcd6ff41": {
      "model_module": "@jupyter-widgets/base",
      "model_module_version": "1.1.0",
      "model_name": "LayoutModel",
      "state": {}
     },
     "312d2e019d124767bb1bb601df055c45": {
      "model_module": "@jupyter-widgets/controls",
      "model_module_version": "1.4.0",
      "model_name": "DropdownModel",
      "state": {
       "_options_labels": [
        "1",
        "2",
        "3"
       ],
       "description": "Number:",
       "index": 2,
       "layout": "IPY_MODEL_dae9841e937d4576a29183b76430a594",
       "style": "IPY_MODEL_13b53ffb2a464552a69f238737a24583"
      }
     },
     "313cf892c2ed4247b93b05e8cff2e1e5": {
      "model_module": "@jupyter-widgets/controls",
      "model_module_version": "1.4.0",
      "model_name": "HBoxModel",
      "state": {
       "children": [
        "IPY_MODEL_da1dbdda456d4e1987c4709aedd2199f",
        "IPY_MODEL_a55ac009c96d4ca1bd431232243b7da2"
       ],
       "layout": "IPY_MODEL_2df8d2d745234700821c728125c1616f"
      }
     },
     "318c2983ceb2466991e232631ba8ebfc": {
      "model_module": "@jupyter-widgets/controls",
      "model_module_version": "1.4.0",
      "model_name": "DescriptionStyleModel",
      "state": {
       "description_width": ""
      }
     },
     "31d01b6a19134392845e94d1047b6c3e": {
      "model_module": "@jupyter-widgets/controls",
      "model_module_version": "1.4.0",
      "model_name": "ProgressStyleModel",
      "state": {
       "description_width": "initial"
      }
     },
     "325188d7398a4aa0bbaac163afe97215": {
      "model_module": "@jupyter-widgets/controls",
      "model_module_version": "1.4.0",
      "model_name": "ProgressStyleModel",
      "state": {
       "description_width": "initial"
      }
     },
     "32993dec4d42430fb19366b98ee3535b": {
      "model_module": "@jupyter-widgets/controls",
      "model_module_version": "1.4.0",
      "model_name": "DescriptionStyleModel",
      "state": {
       "description_width": ""
      }
     },
     "331da5068c4345d3adcf494ffb7504d3": {
      "model_module": "@jupyter-widgets/controls",
      "model_module_version": "1.4.0",
      "model_name": "HTMLModel",
      "state": {
       "layout": "IPY_MODEL_f2993d9c357745f9b7992a6ba7f21bf5",
       "style": "IPY_MODEL_cd7e8cfbecd94194803fb288f53146c7",
       "value": "100% 10/10 [00:11&lt;00:00,  1.17s/it]"
      }
     },
     "334272bfb6584347aa8687ff5255fa94": {
      "model_module": "@jupyter-widgets/controls",
      "model_module_version": "1.4.0",
      "model_name": "IntProgressModel",
      "state": {
       "bar_style": "info",
       "description": "2nd loop",
       "layout": "IPY_MODEL_291e568c149445588307c08caab03149",
       "max": 1,
       "style": "IPY_MODEL_d66d259aead44892a82c51b89e0152c3",
       "value": 1
      }
     },
     "337feb9c78104bccbbc870a518a02e3d": {
      "model_module": "@jupyter-widgets/controls",
      "model_module_version": "1.4.0",
      "model_name": "HTMLModel",
      "state": {
       "layout": "IPY_MODEL_ba479c4531694ad4aeddddf8a7380ab6",
       "style": "IPY_MODEL_37bf1c0e33f44fcc9168a1f79528f4ec",
       "value": "91it [00:01, 69.59it/s]"
      }
     },
     "33c8b3fce1644d2d8dee24fcec63ba67": {
      "model_module": "@jupyter-widgets/controls",
      "model_module_version": "1.4.0",
      "model_name": "ProgressStyleModel",
      "state": {
       "description_width": "initial"
      }
     },
     "358b03f90e3f4e64964f5eb1c652aec1": {
      "model_module": "@jupyter-widgets/base",
      "model_module_version": "1.1.0",
      "model_name": "LayoutModel",
      "state": {}
     },
     "35993374a6884e8a8bc8896735cb6d3a": {
      "model_module": "@jupyter-widgets/controls",
      "model_module_version": "1.4.0",
      "model_name": "ProgressStyleModel",
      "state": {
       "description_width": "initial"
      }
     },
     "361101b70b2c4c0f8ca09470b579c426": {
      "model_module": "@jupyter-widgets/base",
      "model_module_version": "1.1.0",
      "model_name": "LayoutModel",
      "state": {}
     },
     "37bf1c0e33f44fcc9168a1f79528f4ec": {
      "model_module": "@jupyter-widgets/controls",
      "model_module_version": "1.4.0",
      "model_name": "DescriptionStyleModel",
      "state": {
       "description_width": ""
      }
     },
     "396580d33707467b94815e93a754a9a0": {
      "model_module": "@jupyter-widgets/base",
      "model_module_version": "1.1.0",
      "model_name": "LayoutModel",
      "state": {}
     },
     "3a52fb7b399e4396a729e04ba795e547": {
      "model_module": "@jupyter-widgets/base",
      "model_module_version": "1.1.0",
      "model_name": "LayoutModel",
      "state": {}
     },
     "3aad7fed1932404ca82e3cdff15a353b": {
      "model_module": "@jupyter-widgets/controls",
      "model_module_version": "1.4.0",
      "model_name": "ProgressStyleModel",
      "state": {
       "description_width": "initial"
      }
     },
     "3b30a2d973934bb09399c49004b725d7": {
      "model_module": "@jupyter-widgets/controls",
      "model_module_version": "1.4.0",
      "model_name": "HBoxModel",
      "state": {
       "children": [
        "IPY_MODEL_5cf53ef4894e482fab9274d80bc937a9",
        "IPY_MODEL_bd847f792cfe40dfb1287822eaeebe0b"
       ],
       "layout": "IPY_MODEL_eccac6e332af4ee69926aff467154d00"
      }
     },
     "3b85b3c284ef4b798e0af9b9c79be154": {
      "model_module": "@jupyter-widgets/controls",
      "model_module_version": "1.4.0",
      "model_name": "HBoxModel",
      "state": {
       "children": [
        "IPY_MODEL_043fa5f16bae4d0ebc1a870d2d1ea699",
        "IPY_MODEL_5b1b441135ec42b5834e55629b5fd73b"
       ],
       "layout": "IPY_MODEL_ea4ebab7ee404e62b5ff4a526da426ad"
      }
     },
     "3bd8fdc05f5f43fcae8727ac955b2483": {
      "model_module": "@jupyter-widgets/controls",
      "model_module_version": "1.4.0",
      "model_name": "DescriptionStyleModel",
      "state": {
       "description_width": ""
      }
     },
     "3ca89fbca94b47d6a2f9f6cf2f64be15": {
      "model_module": "@jupyter-widgets/controls",
      "model_module_version": "1.4.0",
      "model_name": "HBoxModel",
      "state": {
       "children": [
        "IPY_MODEL_931a0f58148d482391d4d604324d0ce8",
        "IPY_MODEL_b6ae334300b344e583d6286cdcfdde80"
       ],
       "layout": "IPY_MODEL_358b03f90e3f4e64964f5eb1c652aec1"
      }
     },
     "3e3bdb0311ba4ec898fbcceee412bb31": {
      "model_module": "@jupyter-widgets/controls",
      "model_module_version": "1.4.0",
      "model_name": "IntProgressModel",
      "state": {
       "bar_style": "success",
       "description": "2nd loop",
       "layout": "IPY_MODEL_23a7572b03cf4394b15476b1c9ea96c4",
       "style": "IPY_MODEL_fcc029813ec849b58c9b204439d2d5c9",
       "value": 100
      }
     },
     "3ee145f9325e4ffb947c0a6c59c63f14": {
      "model_module": "@jupyter-widgets/controls",
      "model_module_version": "1.4.0",
      "model_name": "HTMLModel",
      "state": {
       "layout": "IPY_MODEL_a9336948281d4ee29864aa9a63f722d2",
       "style": "IPY_MODEL_95b173c142ef47d0a137599ead9bfa27",
       "value": "100% 100/100 [00:01&lt;00:00, 87.48it/s]"
      }
     },
     "3f1ef77f4b8a4e46b33258bbb875e7e6": {
      "model_module": "@jupyter-widgets/controls",
      "model_module_version": "1.4.0",
      "model_name": "HBoxModel",
      "state": {
       "children": [
        "IPY_MODEL_4dcf991e91cf43bc9cb1e4cb1af44892",
        "IPY_MODEL_71fac4d9140a49c48cbe4dddf3a55d14"
       ],
       "layout": "IPY_MODEL_9f88bff78f2b415aa8ec3d8fa642c144"
      }
     },
     "3f3215f311d14eb2b933bbcaac92f0fe": {
      "model_module": "@jupyter-widgets/controls",
      "model_module_version": "1.4.0",
      "model_name": "HBoxModel",
      "state": {
       "children": [
        "IPY_MODEL_21a9f56e8d044d8191bdaf2867907085",
        "IPY_MODEL_553132071a674dcdb63468fda3629280"
       ],
       "layout": "IPY_MODEL_beb411db3c454a6fa22c6750dad1ab43"
      }
     },
     "3f95279908fa47c1995729b3d950f271": {
      "model_module": "@jupyter-widgets/base",
      "model_module_version": "1.1.0",
      "model_name": "LayoutModel",
      "state": {}
     },
     "41e67949aeea451e918d11598b5757e3": {
      "model_module": "@jupyter-widgets/controls",
      "model_module_version": "1.4.0",
      "model_name": "IntProgressModel",
      "state": {
       "bar_style": "success",
       "description": "2nd loop",
       "layout": "IPY_MODEL_c8a490d620354c74b771aaa3b1054220",
       "style": "IPY_MODEL_3aad7fed1932404ca82e3cdff15a353b",
       "value": 100
      }
     },
     "421f5aa1abb741818e2fee40a91d081c": {
      "model_module": "@jupyter-widgets/controls",
      "model_module_version": "1.4.0",
      "model_name": "IntProgressModel",
      "state": {
       "bar_style": "success",
       "description": "2nd loop",
       "layout": "IPY_MODEL_552fca3b9759490db0a3bd5bf793af7c",
       "style": "IPY_MODEL_099d06e84e784516b700688318e75768",
       "value": 100
      }
     },
     "42df77e1a5e7450fb38aba959477d764": {
      "model_module": "@jupyter-widgets/controls",
      "model_module_version": "1.4.0",
      "model_name": "HTMLModel",
      "state": {
       "layout": "IPY_MODEL_f37a56f6c74642a1a3250893ba7e1379",
       "style": "IPY_MODEL_ef19d7579b224121a64cf6e112e3dbe7",
       "value": "100% 100/100 [00:01&lt;00:00, 86.73it/s]"
      }
     },
     "42df99d45b2a4aaaba2d10373e800d04": {
      "model_module": "@jupyter-widgets/controls",
      "model_module_version": "1.4.0",
      "model_name": "IntProgressModel",
      "state": {
       "bar_style": "success",
       "description": "2nd loop",
       "layout": "IPY_MODEL_9e158f1f60ba4694b613ef97f20cc788",
       "style": "IPY_MODEL_2731bcefb2a74dcaadd97458020af23c",
       "value": 100
      }
     },
     "42f025311965478c89d9aa071bd2743a": {
      "model_module": "@jupyter-widgets/base",
      "model_module_version": "1.1.0",
      "model_name": "LayoutModel",
      "state": {}
     },
     "4317e9af3a644fbca55bcd3e333bd2d6": {
      "model_module": "@jupyter-widgets/controls",
      "model_module_version": "1.4.0",
      "model_name": "IntProgressModel",
      "state": {
       "bar_style": "success",
       "description": "1st loop",
       "layout": "IPY_MODEL_215e14d2e15041d384383f47fe306c7f",
       "max": 10,
       "style": "IPY_MODEL_139ee0bc92bd4432859d233a674d1c11",
       "value": 10
      }
     },
     "43a6a1dffaff4085bcc8dc13e979921e": {
      "model_module": "@jupyter-widgets/controls",
      "model_module_version": "1.4.0",
      "model_name": "DescriptionStyleModel",
      "state": {
       "description_width": ""
      }
     },
     "445e5e58aaf548d991a7e60bc7e3ee49": {
      "model_module": "@jupyter-widgets/controls",
      "model_module_version": "1.4.0",
      "model_name": "HBoxModel",
      "state": {
       "children": [
        "IPY_MODEL_0beb11165bc04833960d88bf4bc80873",
        "IPY_MODEL_bfbda99ea0254ed886752e34afc11fad"
       ],
       "layout": "IPY_MODEL_1c3d0106de5340d58e4782069ac1e7d4"
      }
     },
     "4477c181562e4cc994d62997aac0abec": {
      "model_module": "@jupyter-widgets/controls",
      "model_module_version": "1.4.0",
      "model_name": "IntProgressModel",
      "state": {
       "bar_style": "success",
       "description": "2nd loop",
       "layout": "IPY_MODEL_4e0b43ad4a024d20aadec09ec1e0c863",
       "style": "IPY_MODEL_0381da64e1d34b45a59b05d09017bc42",
       "value": 100
      }
     },
     "447833fd5233415297d92c0de37b6b4e": {
      "model_module": "@jupyter-widgets/controls",
      "model_module_version": "1.4.0",
      "model_name": "DescriptionStyleModel",
      "state": {
       "description_width": ""
      }
     },
     "44bd4f84d3f84e54bd4a01b286785e77": {
      "model_module": "@jupyter-widgets/base",
      "model_module_version": "1.1.0",
      "model_name": "LayoutModel",
      "state": {}
     },
     "454da979b18342778e40f34ec00b9838": {
      "model_module": "@jupyter-widgets/base",
      "model_module_version": "1.1.0",
      "model_name": "LayoutModel",
      "state": {}
     },
     "456d43cf3776431fa9346371331446d7": {
      "model_module": "@jupyter-widgets/base",
      "model_module_version": "1.1.0",
      "model_name": "LayoutModel",
      "state": {}
     },
     "45f8a831a97b4f6093cd24df063b7ab0": {
      "model_module": "@jupyter-widgets/controls",
      "model_module_version": "1.4.0",
      "model_name": "IntProgressModel",
      "state": {
       "bar_style": "success",
       "description": "2nd loop",
       "layout": "IPY_MODEL_88ed86d25ba245918415b68ceef83650",
       "style": "IPY_MODEL_185177da068f46538349c94840ab3f05",
       "value": 100
      }
     },
     "46095205af4f447abe60d4fea6a417d5": {
      "model_module": "@jupyter-widgets/controls",
      "model_module_version": "1.4.0",
      "model_name": "HTMLModel",
      "state": {
       "layout": "IPY_MODEL_c8828d7afb3d4e8dbb3bc92b921be137",
       "style": "IPY_MODEL_cee66ad982ba454999b856ec5713e93f",
       "value": "4it [00:04,  1.05s/it]"
      }
     },
     "4700b0ee1fa7452096b09f66d6d91113": {
      "model_module": "@jupyter-widgets/controls",
      "model_module_version": "1.4.0",
      "model_name": "DropdownModel",
      "state": {
       "_options_labels": [
        "1",
        "2",
        "3"
       ],
       "description": "Number:",
       "index": 1,
       "layout": "IPY_MODEL_456d43cf3776431fa9346371331446d7",
       "style": "IPY_MODEL_3bd8fdc05f5f43fcae8727ac955b2483"
      }
     },
     "4897ddcd0b5f43efba9c020552f009ac": {
      "model_module": "@jupyter-widgets/controls",
      "model_module_version": "1.4.0",
      "model_name": "DescriptionStyleModel",
      "state": {
       "description_width": ""
      }
     },
     "4ab7acbe2b21428eb72d8bd54e685cd6": {
      "model_module": "@jupyter-widgets/base",
      "model_module_version": "1.1.0",
      "model_name": "LayoutModel",
      "state": {}
     },
     "4c64d680ae674a99976956e71d1b95c0": {
      "model_module": "@jupyter-widgets/base",
      "model_module_version": "1.1.0",
      "model_name": "LayoutModel",
      "state": {}
     },
     "4cf369beb95842f49766d6d4724ab89d": {
      "model_module": "@jupyter-widgets/base",
      "model_module_version": "1.1.0",
      "model_name": "LayoutModel",
      "state": {}
     },
     "4da5aa8e8bde45d4b7ea79f0a19d188d": {
      "model_module": "@jupyter-widgets/controls",
      "model_module_version": "1.4.0",
      "model_name": "HTMLModel",
      "state": {
       "layout": "IPY_MODEL_a4c2fe0f3012431eb15b753247d783b9",
       "style": "IPY_MODEL_cdc1b37309ce4d2c86190940e0a7604f",
       "value": "91it [00:01, 71.19it/s]"
      }
     },
     "4dcf991e91cf43bc9cb1e4cb1af44892": {
      "model_module": "@jupyter-widgets/controls",
      "model_module_version": "1.4.0",
      "model_name": "IntProgressModel",
      "state": {
       "bar_style": "success",
       "description": "2nd loop",
       "layout": "IPY_MODEL_eda17b573dd14ff480b85c4c11c7980a",
       "style": "IPY_MODEL_b55be82d27414ee69a4482c0f4e19c50",
       "value": 100
      }
     },
     "4e0b43ad4a024d20aadec09ec1e0c863": {
      "model_module": "@jupyter-widgets/base",
      "model_module_version": "1.1.0",
      "model_name": "LayoutModel",
      "state": {}
     },
     "4e2c2c8b41444f2391b5b8f5373fdb27": {
      "model_module": "@jupyter-widgets/base",
      "model_module_version": "1.1.0",
      "model_name": "LayoutModel",
      "state": {}
     },
     "4f16db9e4b3e4da4acb6a723e8038ebb": {
      "model_module": "@jupyter-widgets/base",
      "model_module_version": "1.1.0",
      "model_name": "LayoutModel",
      "state": {}
     },
     "5004c4537119489c80311849a7d68136": {
      "model_module": "@jupyter-widgets/controls",
      "model_module_version": "1.4.0",
      "model_name": "ProgressStyleModel",
      "state": {
       "description_width": "initial"
      }
     },
     "500d3a26ccfb4bc6a7a467a2bd42a67c": {
      "model_module": "@jupyter-widgets/base",
      "model_module_version": "1.1.0",
      "model_name": "LayoutModel",
      "state": {}
     },
     "50e3ab88b09c43ec893239697b2cda1c": {
      "model_module": "@jupyter-widgets/controls",
      "model_module_version": "1.4.0",
      "model_name": "DescriptionStyleModel",
      "state": {
       "description_width": ""
      }
     },
     "51644d08fe8545e5ab87c012335d7a44": {
      "model_module": "@jupyter-widgets/base",
      "model_module_version": "1.1.0",
      "model_name": "LayoutModel",
      "state": {}
     },
     "5200079630464a49a7f2e3c505d46d80": {
      "model_module": "@jupyter-widgets/controls",
      "model_module_version": "1.4.0",
      "model_name": "IntProgressModel",
      "state": {
       "bar_style": "success",
       "description": "2nd loop",
       "layout": "IPY_MODEL_f6b0e7286e0041a992eb3367bba099c2",
       "style": "IPY_MODEL_adb3116e44b344c08a7d515b65b6189a",
       "value": 100
      }
     },
     "522d5f3b7b17461abcef779af9ce05ac": {
      "model_module": "@jupyter-widgets/controls",
      "model_module_version": "1.4.0",
      "model_name": "IntProgressModel",
      "state": {
       "bar_style": "success",
       "description": "2nd loop",
       "layout": "IPY_MODEL_75dd232cf66b4131a801d7ebc7987cb1",
       "style": "IPY_MODEL_8a5f6a7717f54c788c7831c9487b9305",
       "value": 100
      }
     },
     "52f456e87ba64d1eb04afab1f013e451": {
      "model_module": "@jupyter-widgets/controls",
      "model_module_version": "1.4.0",
      "model_name": "ProgressStyleModel",
      "state": {
       "description_width": "initial"
      }
     },
     "53063ee0f24c478b9d762067769e165e": {
      "model_module": "@jupyter-widgets/controls",
      "model_module_version": "1.4.0",
      "model_name": "HBoxModel",
      "state": {
       "children": [
        "IPY_MODEL_2e634c5e65d24782b1baa8b282cb661f",
        "IPY_MODEL_daf2c296854d4ed698846d3e9cfb2326"
       ],
       "layout": "IPY_MODEL_25b75b99a2ad46cfa082f2303193806b"
      }
     },
     "5350347dd6df4238b5aae442dfff980e": {
      "model_module": "@jupyter-widgets/controls",
      "model_module_version": "1.4.0",
      "model_name": "DescriptionStyleModel",
      "state": {
       "description_width": ""
      }
     },
     "53b68ab903ba410e95381a461a911599": {
      "model_module": "@jupyter-widgets/base",
      "model_module_version": "1.1.0",
      "model_name": "LayoutModel",
      "state": {}
     },
     "54396e1f40904975b4d4693dfddc14d8": {
      "model_module": "@jupyter-widgets/controls",
      "model_module_version": "1.4.0",
      "model_name": "IntProgressModel",
      "state": {
       "bar_style": "success",
       "description": "1st loop",
       "layout": "IPY_MODEL_275fcc31daad42ea99f94cbc40840dee",
       "max": 1,
       "style": "IPY_MODEL_d604f174846045018cbbe04fe071b6f3",
       "value": 1
      }
     },
     "5495686cf8eb42368b8ce59f5652e282": {
      "model_module": "@jupyter-widgets/base",
      "model_module_version": "1.1.0",
      "model_name": "LayoutModel",
      "state": {}
     },
     "552fca3b9759490db0a3bd5bf793af7c": {
      "model_module": "@jupyter-widgets/base",
      "model_module_version": "1.1.0",
      "model_name": "LayoutModel",
      "state": {}
     },
     "553132071a674dcdb63468fda3629280": {
      "model_module": "@jupyter-widgets/controls",
      "model_module_version": "1.4.0",
      "model_name": "HTMLModel",
      "state": {
       "layout": "IPY_MODEL_8a37261de40845229698d3e52198df78",
       "style": "IPY_MODEL_a216f3262cb046eaa50b54032090ec2d",
       "value": "100% 100/100 [00:01&lt;00:00, 87.10it/s]"
      }
     },
     "5582504719934e9f830e8cf934ef1f7c": {
      "model_module": "@jupyter-widgets/base",
      "model_module_version": "1.1.0",
      "model_name": "LayoutModel",
      "state": {}
     },
     "5696d34bdffe4921b7bb243b0380ab97": {
      "model_module": "@jupyter-widgets/controls",
      "model_module_version": "1.4.0",
      "model_name": "HTMLModel",
      "state": {
       "layout": "IPY_MODEL_fa32156cf62340898a4fd85f6e953563",
       "style": "IPY_MODEL_7f5e75f48a564698bdbdd40b70b47b4c",
       "value": "91it [00:01, 69.99it/s]"
      }
     },
     "56f70f361e414e2aaa85e9f4f45dfc51": {
      "model_module": "@jupyter-widgets/controls",
      "model_module_version": "1.4.0",
      "model_name": "HBoxModel",
      "state": {
       "children": [
        "IPY_MODEL_4477c181562e4cc994d62997aac0abec",
        "IPY_MODEL_e4d394478b0f458ba1d2e727b86da0b3"
       ],
       "layout": "IPY_MODEL_2233bc26463a46faa10c192a929587cc"
      }
     },
     "56f781c08d5645939a99ec566e936bea": {
      "model_module": "@jupyter-widgets/controls",
      "model_module_version": "1.4.0",
      "model_name": "HTMLModel",
      "state": {
       "layout": "IPY_MODEL_a626ae3f84f74251a6edae472f23e77e",
       "style": "IPY_MODEL_50e3ab88b09c43ec893239697b2cda1c",
       "value": "100% 100/100 [00:01&lt;00:00, 85.98it/s]"
      }
     },
     "576fa0480975469c81cf1b81ca32f087": {
      "model_module": "@jupyter-widgets/controls",
      "model_module_version": "1.4.0",
      "model_name": "HBoxModel",
      "state": {
       "children": [
        "IPY_MODEL_f989a1ec7cfa44bda8b376fa73626012",
        "IPY_MODEL_8803510263944c3390f68d269d717483"
       ],
       "layout": "IPY_MODEL_4c64d680ae674a99976956e71d1b95c0"
      }
     },
     "5805f6e35dd04dbeaa68d8c5139ad64d": {
      "model_module": "@jupyter-widgets/controls",
      "model_module_version": "1.4.0",
      "model_name": "IntSliderModel",
      "state": {
       "continuous_update": false,
       "description": "Test:",
       "layout": "IPY_MODEL_5a08735ede314d8994a606e2cb00871e",
       "max": 10,
       "style": "IPY_MODEL_c22998ad7dc643338c1708031eeba4b7",
       "value": 7
      }
     },
     "588f957b4c5446708d6c0e6ecb94611b": {
      "model_module": "@jupyter-widgets/controls",
      "model_module_version": "1.4.0",
      "model_name": "ProgressStyleModel",
      "state": {
       "description_width": "initial"
      }
     },
     "58e75d5729c04c67bdcb29cd4ab1433d": {
      "model_module": "@jupyter-widgets/base",
      "model_module_version": "1.1.0",
      "model_name": "LayoutModel",
      "state": {}
     },
     "5977b42cc12e45a9a910dc72f518fa01": {
      "model_module": "@jupyter-widgets/controls",
      "model_module_version": "1.4.0",
      "model_name": "DescriptionStyleModel",
      "state": {
       "description_width": ""
      }
     },
     "5a08735ede314d8994a606e2cb00871e": {
      "model_module": "@jupyter-widgets/base",
      "model_module_version": "1.1.0",
      "model_name": "LayoutModel",
      "state": {}
     },
     "5b1b441135ec42b5834e55629b5fd73b": {
      "model_module": "@jupyter-widgets/controls",
      "model_module_version": "1.4.0",
      "model_name": "HTMLModel",
      "state": {
       "layout": "IPY_MODEL_25ae02571ecb410da6b695f92ce2ddf4",
       "style": "IPY_MODEL_123c4540922448298abbe6a85d4d0257",
       "value": "100% 100/100 [00:01&lt;00:00, 96.44it/s]"
      }
     },
     "5cf53ef4894e482fab9274d80bc937a9": {
      "model_module": "@jupyter-widgets/controls",
      "model_module_version": "1.4.0",
      "model_name": "IntProgressModel",
      "state": {
       "bar_style": "success",
       "description": "1st loop",
       "layout": "IPY_MODEL_bcf0f0e524b04b91a0aafc9954b6ccb2",
       "max": 1,
       "style": "IPY_MODEL_f1f27a0b8a59400d986fcbce2add8d64",
       "value": 1
      }
     },
     "5e350cf224f3472e9245446d55a1691d": {
      "model_module": "@jupyter-widgets/base",
      "model_module_version": "1.1.0",
      "model_name": "LayoutModel",
      "state": {}
     },
     "5ea0c112214b4177be284c049d6e0e5a": {
      "model_module": "@jupyter-widgets/controls",
      "model_module_version": "1.4.0",
      "model_name": "IntProgressModel",
      "state": {
       "bar_style": "success",
       "description": "2nd loop",
       "layout": "IPY_MODEL_ed7098d200954101a435ae461bfb6237",
       "style": "IPY_MODEL_325188d7398a4aa0bbaac163afe97215",
       "value": 100
      }
     },
     "5ed5f5e8cab144b2932f969797eabcf6": {
      "model_module": "@jupyter-widgets/controls",
      "model_module_version": "1.4.0",
      "model_name": "DescriptionStyleModel",
      "state": {
       "description_width": ""
      }
     },
     "5f7f9e1d424e41da8b4867ba89da6ce7": {
      "model_module": "@jupyter-widgets/base",
      "model_module_version": "1.1.0",
      "model_name": "LayoutModel",
      "state": {}
     },
     "61209e7a948343058dc2b0d2e166ef02": {
      "model_module": "@jupyter-widgets/controls",
      "model_module_version": "1.4.0",
      "model_name": "DescriptionStyleModel",
      "state": {
       "description_width": ""
      }
     },
     "615dc41fa0b846babf845ba103a65252": {
      "model_module": "@jupyter-widgets/controls",
      "model_module_version": "1.4.0",
      "model_name": "HBoxModel",
      "state": {
       "children": [
        "IPY_MODEL_cfbb0ed3477e48e8816d68322fc5716c",
        "IPY_MODEL_dc13252e51b248d5951c854d7d09bdce"
       ],
       "layout": "IPY_MODEL_5e350cf224f3472e9245446d55a1691d"
      }
     },
     "6368faad6faf45f499c57c8d844f05d3": {
      "model_module": "@jupyter-widgets/controls",
      "model_module_version": "1.4.0",
      "model_name": "HBoxModel",
      "state": {
       "children": [
        "IPY_MODEL_03ca7c7c8c154dd99b28bac964a923b6",
        "IPY_MODEL_2e785333e94847fa866057363e176abb"
       ],
       "layout": "IPY_MODEL_853af231bd4142a7852e02d31a576e8c"
      }
     },
     "6416b1fe945e4bc797d5b188445687ce": {
      "model_module": "@jupyter-widgets/base",
      "model_module_version": "1.1.0",
      "model_name": "LayoutModel",
      "state": {}
     },
     "65066289d25043d6a8f995ae3b4da80c": {
      "model_module": "@jupyter-widgets/controls",
      "model_module_version": "1.4.0",
      "model_name": "IntProgressModel",
      "state": {
       "bar_style": "info",
       "description": "2nd loop",
       "layout": "IPY_MODEL_b081bfc58ebd4f238f616470ecefd836",
       "max": 1,
       "style": "IPY_MODEL_d02d1f439bff4c70807d6b6bae351790",
       "value": 1
      }
     },
     "659d6691b5b24ec4af4de6242e789c5a": {
      "model_module": "@jupyter-widgets/base",
      "model_module_version": "1.1.0",
      "model_name": "LayoutModel",
      "state": {}
     },
     "6865aed32f0448d987fbcdc9c326556c": {
      "model_module": "@jupyter-widgets/controls",
      "model_module_version": "1.4.0",
      "model_name": "IntProgressModel",
      "state": {
       "bar_style": "success",
       "description": "2nd loop",
       "layout": "IPY_MODEL_6416b1fe945e4bc797d5b188445687ce",
       "style": "IPY_MODEL_cf32b97d602544a08dddfc4d5a6bc5cb",
       "value": 100
      }
     },
     "6869a19d005a4ff39b733ae785db5213": {
      "model_module": "@jupyter-widgets/controls",
      "model_module_version": "1.4.0",
      "model_name": "DescriptionStyleModel",
      "state": {
       "description_width": ""
      }
     },
     "695f97261a5d4fc6a6dc773bc0bb814a": {
      "model_module": "@jupyter-widgets/controls",
      "model_module_version": "1.4.0",
      "model_name": "HBoxModel",
      "state": {
       "children": [
        "IPY_MODEL_c6d1464fb7884bfb9e62a2b03a1bb102",
        "IPY_MODEL_46095205af4f447abe60d4fea6a417d5"
       ],
       "layout": "IPY_MODEL_082372dc21e94a49a5e96360d21e746d"
      }
     },
     "6d67891cf494410aa532106207d6f769": {
      "model_module": "@jupyter-widgets/controls",
      "model_module_version": "1.4.0",
      "model_name": "HBoxModel",
      "state": {
       "children": [
        "IPY_MODEL_7cf3f2eec65342de9f795daa8738959f",
        "IPY_MODEL_c178db95505e43e4b89034c2606e09e2"
       ],
       "layout": "IPY_MODEL_c874e4fb0bf34364a475559b8c3e4283"
      }
     },
     "6f0afef9d1794f4d8f83af53b6b7e9dd": {
      "model_module": "@jupyter-widgets/controls",
      "model_module_version": "1.4.0",
      "model_name": "DescriptionStyleModel",
      "state": {
       "description_width": ""
      }
     },
     "7071b5cd445d4b158ec562fea3dce1c8": {
      "model_module": "@jupyter-widgets/base",
      "model_module_version": "1.1.0",
      "model_name": "LayoutModel",
      "state": {}
     },
     "7093bc9555b140928aa92cb55c67d89f": {
      "model_module": "@jupyter-widgets/base",
      "model_module_version": "1.1.0",
      "model_name": "LayoutModel",
      "state": {}
     },
     "70d99b359fd24ad6b2840ad95abb9a50": {
      "model_module": "@jupyter-widgets/controls",
      "model_module_version": "1.4.0",
      "model_name": "IntProgressModel",
      "state": {
       "bar_style": "success",
       "description": "2nd loop",
       "layout": "IPY_MODEL_cf3bdc69fede4616835ec0d6291536ca",
       "style": "IPY_MODEL_8bf06f74c6b045eb975cb34d7c506bb4",
       "value": 100
      }
     },
     "7198ae0a9b0e4ce0a599b39e209baf28": {
      "model_module": "@jupyter-widgets/controls",
      "model_module_version": "1.4.0",
      "model_name": "IntProgressModel",
      "state": {
       "bar_style": "success",
       "description": "2nd loop",
       "layout": "IPY_MODEL_276e0c735c49497e88f05834019e5b91",
       "style": "IPY_MODEL_5004c4537119489c80311849a7d68136",
       "value": 100
      }
     },
     "71fac4d9140a49c48cbe4dddf3a55d14": {
      "model_module": "@jupyter-widgets/controls",
      "model_module_version": "1.4.0",
      "model_name": "HTMLModel",
      "state": {
       "layout": "IPY_MODEL_beff9fb51841478d943e31b4ce339674",
       "style": "IPY_MODEL_b1a4cd4858144924b3c095a96a804b6c",
       "value": "100% 100/100 [00:01&lt;00:00, 87.57it/s]"
      }
     },
     "7234c90f648e408abbf1a5f0f5c60fdf": {
      "model_module": "@jupyter-widgets/base",
      "model_module_version": "1.1.0",
      "model_name": "LayoutModel",
      "state": {}
     },
     "7237ddc68c924990beb8d405f2cf927a": {
      "model_module": "@jupyter-widgets/controls",
      "model_module_version": "1.4.0",
      "model_name": "DescriptionStyleModel",
      "state": {
       "description_width": ""
      }
     },
     "729dc90305684b09af820695a9102c69": {
      "model_module": "@jupyter-widgets/base",
      "model_module_version": "1.1.0",
      "model_name": "LayoutModel",
      "state": {}
     },
     "72f6deece6804f9f8772429ad34c3bcf": {
      "model_module": "@jupyter-widgets/controls",
      "model_module_version": "1.4.0",
      "model_name": "ProgressStyleModel",
      "state": {
       "description_width": "initial"
      }
     },
     "73227455e8a348f4a29ece69b0b1ee0d": {
      "model_module": "@jupyter-widgets/controls",
      "model_module_version": "1.4.0",
      "model_name": "HBoxModel",
      "state": {
       "children": [
        "IPY_MODEL_42df99d45b2a4aaaba2d10373e800d04",
        "IPY_MODEL_3ee145f9325e4ffb947c0a6c59c63f14"
       ],
       "layout": "IPY_MODEL_fe04df87aee74794b62929024183bfcb"
      }
     },
     "734d6b5d7d5347409a54ec7506b37b8a": {
      "model_module": "@jupyter-widgets/base",
      "model_module_version": "1.1.0",
      "model_name": "LayoutModel",
      "state": {}
     },
     "739b9329328b4f09b362ef423d56354a": {
      "model_module": "@jupyter-widgets/controls",
      "model_module_version": "1.4.0",
      "model_name": "ProgressStyleModel",
      "state": {
       "description_width": "initial"
      }
     },
     "73e9bd79674d4e05a7b4ac4bea06461d": {
      "model_module": "@jupyter-widgets/base",
      "model_module_version": "1.1.0",
      "model_name": "LayoutModel",
      "state": {}
     },
     "7427ddc79c7b4167b73bfa93f33a24e8": {
      "model_module": "@jupyter-widgets/controls",
      "model_module_version": "1.4.0",
      "model_name": "ProgressStyleModel",
      "state": {
       "description_width": "initial"
      }
     },
     "746f30248a0d4a089458422810de1d33": {
      "model_module": "@jupyter-widgets/controls",
      "model_module_version": "1.4.0",
      "model_name": "IntProgressModel",
      "state": {
       "bar_style": "info",
       "description": "2nd loop",
       "layout": "IPY_MODEL_b5fabcec0e2642259786770837d6c1da",
       "max": 1,
       "style": "IPY_MODEL_739b9329328b4f09b362ef423d56354a",
       "value": 1
      }
     },
     "74ba8c21ca3d4495a7ba140dae65ecb4": {
      "model_module": "@jupyter-widgets/controls",
      "model_module_version": "1.4.0",
      "model_name": "HBoxModel",
      "state": {
       "children": [
        "IPY_MODEL_1dd0f52f1a544d85a66f23ad0ec26034",
        "IPY_MODEL_c5a69b667c8b4418ae299d03930565f3"
       ],
       "layout": "IPY_MODEL_b1a77b8c1cfa46278c44e765ad3d8312"
      }
     },
     "75a83a5d74c04d1fbb0949d9dc347a74": {
      "model_module": "@jupyter-widgets/controls",
      "model_module_version": "1.4.0",
      "model_name": "ProgressStyleModel",
      "state": {
       "description_width": "initial"
      }
     },
     "75dd232cf66b4131a801d7ebc7987cb1": {
      "model_module": "@jupyter-widgets/base",
      "model_module_version": "1.1.0",
      "model_name": "LayoutModel",
      "state": {}
     },
     "760c143c0a604a6992a5feaeaae13291": {
      "model_module": "@jupyter-widgets/base",
      "model_module_version": "1.1.0",
      "model_name": "LayoutModel",
      "state": {}
     },
     "7640cdabc31f48fca570ae488a698383": {
      "model_module": "@jupyter-widgets/base",
      "model_module_version": "1.1.0",
      "model_name": "LayoutModel",
      "state": {}
     },
     "775cadedd041414194f4b38ffaf3ccde": {
      "model_module": "@jupyter-widgets/base",
      "model_module_version": "1.1.0",
      "model_name": "LayoutModel",
      "state": {}
     },
     "790c27e188c244e4a053086ffe26f8d3": {
      "model_module": "@jupyter-widgets/controls",
      "model_module_version": "1.4.0",
      "model_name": "DescriptionStyleModel",
      "state": {
       "description_width": ""
      }
     },
     "7a8855b227be48de802659fd160333d0": {
      "model_module": "@jupyter-widgets/controls",
      "model_module_version": "1.4.0",
      "model_name": "IntProgressModel",
      "state": {
       "bar_style": "info",
       "description": "2nd loop",
       "layout": "IPY_MODEL_7b4700971c1d4226ba135aa22a22804b",
       "max": 1,
       "style": "IPY_MODEL_07ec124d89704c5d83d30e1ded31a50d",
       "value": 1
      }
     },
     "7b4700971c1d4226ba135aa22a22804b": {
      "model_module": "@jupyter-widgets/base",
      "model_module_version": "1.1.0",
      "model_name": "LayoutModel",
      "state": {}
     },
     "7bfd8d08a1d248a299e1a3d98f526e8d": {
      "model_module": "@jupyter-widgets/controls",
      "model_module_version": "1.4.0",
      "model_name": "DescriptionStyleModel",
      "state": {
       "description_width": ""
      }
     },
     "7c34b74a1abd44a6885ad0a79af9e855": {
      "model_module": "@jupyter-widgets/base",
      "model_module_version": "1.1.0",
      "model_name": "LayoutModel",
      "state": {}
     },
     "7c39ccee90bb47689cac850e10a476ff": {
      "model_module": "@jupyter-widgets/base",
      "model_module_version": "1.1.0",
      "model_name": "LayoutModel",
      "state": {}
     },
     "7ced7f4c906f4bd69554673fc9f9c09d": {
      "model_module": "@jupyter-widgets/base",
      "model_module_version": "1.1.0",
      "model_name": "LayoutModel",
      "state": {}
     },
     "7cf3f2eec65342de9f795daa8738959f": {
      "model_module": "@jupyter-widgets/controls",
      "model_module_version": "1.4.0",
      "model_name": "IntProgressModel",
      "state": {
       "bar_style": "success",
       "description": "2nd loop",
       "layout": "IPY_MODEL_2be51b214a4e4e5fab32228292f1b8bd",
       "style": "IPY_MODEL_31d01b6a19134392845e94d1047b6c3e",
       "value": 100
      }
     },
     "7d5a9672d95b499092cd78c97b1cbacb": {
      "model_module": "@jupyter-widgets/controls",
      "model_module_version": "1.4.0",
      "model_name": "ProgressStyleModel",
      "state": {
       "description_width": "initial"
      }
     },
     "7ed60fcd7ce84e46bebfbd0d635d993e": {
      "model_module": "@jupyter-widgets/controls",
      "model_module_version": "1.4.0",
      "model_name": "ProgressStyleModel",
      "state": {
       "description_width": "initial"
      }
     },
     "7f5e75f48a564698bdbdd40b70b47b4c": {
      "model_module": "@jupyter-widgets/controls",
      "model_module_version": "1.4.0",
      "model_name": "DescriptionStyleModel",
      "state": {
       "description_width": ""
      }
     },
     "80abba3480b34a9aa3d415fb1013c81d": {
      "model_module": "@jupyter-widgets/controls",
      "model_module_version": "1.4.0",
      "model_name": "HBoxModel",
      "state": {
       "children": [
        "IPY_MODEL_960dcce90a0148cca8c0e13fe856875e",
        "IPY_MODEL_2f0822934b834fa49b103029ff53a63a"
       ],
       "layout": "IPY_MODEL_ea326fd7cb55488f916fa76f8adcb7c4"
      }
     },
     "80b1cbb7d23e49ecaaf22740a4ac8fc4": {
      "model_module": "@jupyter-widgets/controls",
      "model_module_version": "1.4.0",
      "model_name": "DescriptionStyleModel",
      "state": {
       "description_width": ""
      }
     },
     "81ea4eabfa0f4815b047524946e5a5d2": {
      "model_module": "@jupyter-widgets/controls",
      "model_module_version": "1.4.0",
      "model_name": "HTMLModel",
      "state": {
       "layout": "IPY_MODEL_7ced7f4c906f4bd69554673fc9f9c09d",
       "style": "IPY_MODEL_5977b42cc12e45a9a910dc72f518fa01",
       "value": "100% 100/100 [00:01&lt;00:00, 86.16it/s]"
      }
     },
     "853af231bd4142a7852e02d31a576e8c": {
      "model_module": "@jupyter-widgets/base",
      "model_module_version": "1.1.0",
      "model_name": "LayoutModel",
      "state": {}
     },
     "85bac63774324fe2924fe56f5c1f9f65": {
      "model_module": "@jupyter-widgets/controls",
      "model_module_version": "1.4.0",
      "model_name": "HTMLModel",
      "state": {
       "layout": "IPY_MODEL_8f3f4265351b41abbed6bc62f09db990",
       "style": "IPY_MODEL_2a21cb66bd134dfd96190f82638834d9",
       "value": "98it [00:01, 97.38it/s]"
      }
     },
     "86d5903efa834dd19d1e7ad9fc9372b6": {
      "model_module": "@jupyter-widgets/base",
      "model_module_version": "1.1.0",
      "model_name": "LayoutModel",
      "state": {}
     },
     "87a6737b601143dfa5dc7c988e1a1874": {
      "model_module": "@jupyter-widgets/controls",
      "model_module_version": "1.4.0",
      "model_name": "ProgressStyleModel",
      "state": {
       "description_width": "initial"
      }
     },
     "87bd3e14f61446a8a0ad9f9ffabe4d5d": {
      "model_module": "@jupyter-widgets/controls",
      "model_module_version": "1.4.0",
      "model_name": "ProgressStyleModel",
      "state": {
       "description_width": "initial"
      }
     },
     "87eb19b5e18748c3a4d184f3afb430f1": {
      "model_module": "@jupyter-widgets/controls",
      "model_module_version": "1.4.0",
      "model_name": "DescriptionStyleModel",
      "state": {
       "description_width": ""
      }
     },
     "8803510263944c3390f68d269d717483": {
      "model_module": "@jupyter-widgets/controls",
      "model_module_version": "1.4.0",
      "model_name": "HTMLModel",
      "state": {
       "layout": "IPY_MODEL_abb2538a89964e29ac62d30addfcf318",
       "style": "IPY_MODEL_07bfc6af6ca74c098b874c9aff8201ed",
       "value": "100% 100/100 [00:01&lt;00:00, 95.10it/s]"
      }
     },
     "88d146245ec646ea8e7e6c748001bc64": {
      "model_module": "@jupyter-widgets/base",
      "model_module_version": "1.1.0",
      "model_name": "LayoutModel",
      "state": {}
     },
     "88ed86d25ba245918415b68ceef83650": {
      "model_module": "@jupyter-widgets/base",
      "model_module_version": "1.1.0",
      "model_name": "LayoutModel",
      "state": {}
     },
     "8979e315b91a40679384606b2dc0ad89": {
      "model_module": "@jupyter-widgets/controls",
      "model_module_version": "1.4.0",
      "model_name": "IntSliderModel",
      "state": {
       "continuous_update": false,
       "description": "Test:",
       "layout": "IPY_MODEL_c40ba43178e44637ab8055b7ef36094e",
       "max": 10,
       "style": "IPY_MODEL_9b7eb48877a24efd9e382d1bebb2dee4",
       "value": 7
      }
     },
     "8987f2b3a9ce427480dbf2b99e47b277": {
      "model_module": "@jupyter-widgets/controls",
      "model_module_version": "1.4.0",
      "model_name": "DescriptionStyleModel",
      "state": {
       "description_width": ""
      }
     },
     "8989b730c8e84ebe99005fc637f34a8f": {
      "model_module": "@jupyter-widgets/controls",
      "model_module_version": "1.4.0",
      "model_name": "DropdownModel",
      "state": {
       "_options_labels": [
        "1",
        "2",
        "3"
       ],
       "description": "Number:",
       "index": 1,
       "layout": "IPY_MODEL_ad8e471706634c91a6d60e797d4516a8",
       "style": "IPY_MODEL_e827a5361c764a77a2eea363b14c07e4"
      }
     },
     "89f7127b7f7f49339752e1e7b9cf09f4": {
      "model_module": "@jupyter-widgets/controls",
      "model_module_version": "1.4.0",
      "model_name": "HBoxModel",
      "state": {
       "children": [
        "IPY_MODEL_200ef2d2bbdb42de9fb3274c9f0b6f1b",
        "IPY_MODEL_56f781c08d5645939a99ec566e936bea"
       ],
       "layout": "IPY_MODEL_4f16db9e4b3e4da4acb6a723e8038ebb"
      }
     },
     "8a37261de40845229698d3e52198df78": {
      "model_module": "@jupyter-widgets/base",
      "model_module_version": "1.1.0",
      "model_name": "LayoutModel",
      "state": {}
     },
     "8a5f6a7717f54c788c7831c9487b9305": {
      "model_module": "@jupyter-widgets/controls",
      "model_module_version": "1.4.0",
      "model_name": "ProgressStyleModel",
      "state": {
       "description_width": "initial"
      }
     },
     "8bb3814b45b9441295b618ee4155c84d": {
      "model_module": "@jupyter-widgets/base",
      "model_module_version": "1.1.0",
      "model_name": "LayoutModel",
      "state": {}
     },
     "8bef50af7c2b43479a97af6d3753e754": {
      "model_module": "@jupyter-widgets/controls",
      "model_module_version": "1.4.0",
      "model_name": "IntProgressModel",
      "state": {
       "bar_style": "success",
       "description": "2nd loop",
       "layout": "IPY_MODEL_5495686cf8eb42368b8ce59f5652e282",
       "style": "IPY_MODEL_c1eddd340eff45cdbd90ebd7b1fe13c5",
       "value": 100
      }
     },
     "8bf06f74c6b045eb975cb34d7c506bb4": {
      "model_module": "@jupyter-widgets/controls",
      "model_module_version": "1.4.0",
      "model_name": "ProgressStyleModel",
      "state": {
       "description_width": "initial"
      }
     },
     "8c31d46a2cbd401289d123c5f88ff63e": {
      "model_module": "@jupyter-widgets/controls",
      "model_module_version": "1.4.0",
      "model_name": "DescriptionStyleModel",
      "state": {
       "description_width": ""
      }
     },
     "8f11b3d51a5e4180981b36ea06bcaeaf": {
      "model_module": "@jupyter-widgets/controls",
      "model_module_version": "1.4.0",
      "model_name": "HTMLModel",
      "state": {
       "layout": "IPY_MODEL_7c39ccee90bb47689cac850e10a476ff",
       "style": "IPY_MODEL_fb2109b63baf43a79048b33d74276572",
       "value": "92it [00:01, 82.33it/s]"
      }
     },
     "8f3f4265351b41abbed6bc62f09db990": {
      "model_module": "@jupyter-widgets/base",
      "model_module_version": "1.1.0",
      "model_name": "LayoutModel",
      "state": {}
     },
     "9002f233d4e74a068dbf441931f591bd": {
      "model_module": "@jupyter-widgets/controls",
      "model_module_version": "1.4.0",
      "model_name": "HTMLModel",
      "state": {
       "layout": "IPY_MODEL_eaa6fc7170084e78a45d034fcd2463c6",
       "style": "IPY_MODEL_186c54554a854350a0be089ee3fefaeb",
       "value": "100% 100/100 [00:01&lt;00:00, 96.28it/s]"
      }
     },
     "90554b562813410eaa03de71a1cfff6d": {
      "model_module": "@jupyter-widgets/base",
      "model_module_version": "1.1.0",
      "model_name": "LayoutModel",
      "state": {}
     },
     "90cf5639f7ed4b9ea41bdfe04450e0e9": {
      "model_module": "@jupyter-widgets/controls",
      "model_module_version": "1.4.0",
      "model_name": "DescriptionStyleModel",
      "state": {
       "description_width": ""
      }
     },
     "9123d044de61482c9a1ef99a309504a1": {
      "model_module": "@jupyter-widgets/controls",
      "model_module_version": "1.4.0",
      "model_name": "DropdownModel",
      "state": {
       "_options_labels": [
        "1",
        "2",
        "3"
       ],
       "description": "Number:",
       "index": 1,
       "layout": "IPY_MODEL_a24f4738b28243c5a55781fe65b8cc62",
       "style": "IPY_MODEL_43a6a1dffaff4085bcc8dc13e979921e"
      }
     },
     "92429cbd56f44cf5b94b92fb062a73e3": {
      "model_module": "@jupyter-widgets/base",
      "model_module_version": "1.1.0",
      "model_name": "LayoutModel",
      "state": {}
     },
     "926df8af5a334cab8ac9a2e942f9cef2": {
      "model_module": "@jupyter-widgets/base",
      "model_module_version": "1.1.0",
      "model_name": "LayoutModel",
      "state": {}
     },
     "931a0f58148d482391d4d604324d0ce8": {
      "model_module": "@jupyter-widgets/controls",
      "model_module_version": "1.4.0",
      "model_name": "IntProgressModel",
      "state": {
       "bar_style": "success",
       "description": "2nd loop",
       "layout": "IPY_MODEL_fdf632bf1f6c4252a34ae64c6b509bb8",
       "style": "IPY_MODEL_87bd3e14f61446a8a0ad9f9ffabe4d5d",
       "value": 100
      }
     },
     "94124dd17fb34bbfb928ed5b8483377d": {
      "model_module": "@jupyter-widgets/controls",
      "model_module_version": "1.4.0",
      "model_name": "HTMLModel",
      "state": {
       "layout": "IPY_MODEL_e2316b7d1fe1477da78fb260b7a6b92a",
       "style": "IPY_MODEL_ccca49cfa6e0443e8867abeec649e8cf",
       "value": "92it [00:01, 81.93it/s]"
      }
     },
     "9427e8a57ac74cb0813bde03fa85dcda": {
      "model_module": "@jupyter-widgets/base",
      "model_module_version": "1.1.0",
      "model_name": "LayoutModel",
      "state": {}
     },
     "95b173c142ef47d0a137599ead9bfa27": {
      "model_module": "@jupyter-widgets/controls",
      "model_module_version": "1.4.0",
      "model_name": "DescriptionStyleModel",
      "state": {
       "description_width": ""
      }
     },
     "960dcce90a0148cca8c0e13fe856875e": {
      "model_module": "@jupyter-widgets/controls",
      "model_module_version": "1.4.0",
      "model_name": "IntProgressModel",
      "state": {
       "bar_style": "success",
       "description": "2nd loop",
       "layout": "IPY_MODEL_ad07b3abb899420e9c8fd6ebb2d7279e",
       "style": "IPY_MODEL_75a83a5d74c04d1fbb0949d9dc347a74",
       "value": 100
      }
     },
     "9b7eb48877a24efd9e382d1bebb2dee4": {
      "model_module": "@jupyter-widgets/controls",
      "model_module_version": "1.4.0",
      "model_name": "SliderStyleModel",
      "state": {
       "description_width": ""
      }
     },
     "9bcd09800760412c9d1559a78954aa1f": {
      "model_module": "@jupyter-widgets/controls",
      "model_module_version": "1.4.0",
      "model_name": "ProgressStyleModel",
      "state": {
       "description_width": "initial"
      }
     },
     "9d388900f75a400db8d7044ead41c621": {
      "model_module": "@jupyter-widgets/controls",
      "model_module_version": "1.4.0",
      "model_name": "HBoxModel",
      "state": {
       "children": [
        "IPY_MODEL_4317e9af3a644fbca55bcd3e333bd2d6",
        "IPY_MODEL_331da5068c4345d3adcf494ffb7504d3"
       ],
       "layout": "IPY_MODEL_51644d08fe8545e5ab87c012335d7a44"
      }
     },
     "9da9c81da64541f2b265ccae6e9b5b1f": {
      "model_module": "@jupyter-widgets/base",
      "model_module_version": "1.1.0",
      "model_name": "LayoutModel",
      "state": {}
     },
     "9e158f1f60ba4694b613ef97f20cc788": {
      "model_module": "@jupyter-widgets/base",
      "model_module_version": "1.1.0",
      "model_name": "LayoutModel",
      "state": {}
     },
     "9f88bff78f2b415aa8ec3d8fa642c144": {
      "model_module": "@jupyter-widgets/base",
      "model_module_version": "1.1.0",
      "model_name": "LayoutModel",
      "state": {}
     },
     "a0b049771bba48b9bd85b1f48adc1bfc": {
      "model_module": "@jupyter-widgets/controls",
      "model_module_version": "1.4.0",
      "model_name": "HBoxModel",
      "state": {
       "children": [
        "IPY_MODEL_5200079630464a49a7f2e3c505d46d80",
        "IPY_MODEL_b1e04305bbf745399cfd632133345865"
       ],
       "layout": "IPY_MODEL_c3c0777bc00d4a928c7e6454d24974fb"
      }
     },
     "a216f3262cb046eaa50b54032090ec2d": {
      "model_module": "@jupyter-widgets/controls",
      "model_module_version": "1.4.0",
      "model_name": "DescriptionStyleModel",
      "state": {
       "description_width": ""
      }
     },
     "a21f473faf3747649ce510395b717485": {
      "model_module": "@jupyter-widgets/controls",
      "model_module_version": "1.4.0",
      "model_name": "DescriptionStyleModel",
      "state": {
       "description_width": ""
      }
     },
     "a24f4738b28243c5a55781fe65b8cc62": {
      "model_module": "@jupyter-widgets/base",
      "model_module_version": "1.1.0",
      "model_name": "LayoutModel",
      "state": {}
     },
     "a31e3a61be6f446e9479f225b470d546": {
      "model_module": "@jupyter-widgets/controls",
      "model_module_version": "1.4.0",
      "model_name": "ProgressStyleModel",
      "state": {
       "description_width": "initial"
      }
     },
     "a4c2fe0f3012431eb15b753247d783b9": {
      "model_module": "@jupyter-widgets/base",
      "model_module_version": "1.1.0",
      "model_name": "LayoutModel",
      "state": {}
     },
     "a55ac009c96d4ca1bd431232243b7da2": {
      "model_module": "@jupyter-widgets/controls",
      "model_module_version": "1.4.0",
      "model_name": "HTMLModel",
      "state": {
       "layout": "IPY_MODEL_0c8bcccfad77429ea084814e383199cd",
       "style": "IPY_MODEL_447833fd5233415297d92c0de37b6b4e",
       "value": "100% 100/100 [00:01&lt;00:00, 96.04it/s]"
      }
     },
     "a58828b0e36046729567bd35e9683298": {
      "model_module": "@jupyter-widgets/controls",
      "model_module_version": "1.4.0",
      "model_name": "DescriptionStyleModel",
      "state": {
       "description_width": ""
      }
     },
     "a626ae3f84f74251a6edae472f23e77e": {
      "model_module": "@jupyter-widgets/base",
      "model_module_version": "1.1.0",
      "model_name": "LayoutModel",
      "state": {}
     },
     "a76937e52e8f46fe83ef017829fb689e": {
      "model_module": "@jupyter-widgets/controls",
      "model_module_version": "1.4.0",
      "model_name": "HTMLModel",
      "state": {
       "layout": "IPY_MODEL_4ab7acbe2b21428eb72d8bd54e685cd6",
       "style": "IPY_MODEL_d1bf137030ad45fba506a4e6c947911d",
       "value": "100% 100/100 [00:01&lt;00:00, 86.73it/s]"
      }
     },
     "a7a2a4f1fff84fbe9ea3a3a0c7e6e5e7": {
      "model_module": "@jupyter-widgets/controls",
      "model_module_version": "1.4.0",
      "model_name": "DescriptionStyleModel",
      "state": {
       "description_width": ""
      }
     },
     "a85e5132e25c4922bd812e5359f46eae": {
      "model_module": "@jupyter-widgets/controls",
      "model_module_version": "1.4.0",
      "model_name": "HTMLModel",
      "state": {
       "layout": "IPY_MODEL_da60f3dd00af4693bde8e7f915bffe87",
       "style": "IPY_MODEL_87eb19b5e18748c3a4d184f3afb430f1",
       "value": "100% 100/100 [00:01&lt;00:00, 86.97it/s]"
      }
     },
     "a8e2c378bfaf413dba41b7decd298d45": {
      "model_module": "@jupyter-widgets/controls",
      "model_module_version": "1.4.0",
      "model_name": "HTMLModel",
      "state": {
       "layout": "IPY_MODEL_3a52fb7b399e4396a729e04ba795e547",
       "style": "IPY_MODEL_a7a2a4f1fff84fbe9ea3a3a0c7e6e5e7",
       "value": "98it [00:01, 97.35it/s]"
      }
     },
     "a9336948281d4ee29864aa9a63f722d2": {
      "model_module": "@jupyter-widgets/base",
      "model_module_version": "1.1.0",
      "model_name": "LayoutModel",
      "state": {}
     },
     "a9a44a928a6c43fcb7d7b24d16d4131b": {
      "model_module": "@jupyter-widgets/controls",
      "model_module_version": "1.4.0",
      "model_name": "DescriptionStyleModel",
      "state": {
       "description_width": ""
      }
     },
     "abb2538a89964e29ac62d30addfcf318": {
      "model_module": "@jupyter-widgets/base",
      "model_module_version": "1.1.0",
      "model_name": "LayoutModel",
      "state": {}
     },
     "ac5e00cd71594bcd889172bce53389c2": {
      "model_module": "@jupyter-widgets/base",
      "model_module_version": "1.1.0",
      "model_name": "LayoutModel",
      "state": {}
     },
     "ac6ed4a7d887462f88d39ea6c88adfb1": {
      "model_module": "@jupyter-widgets/controls",
      "model_module_version": "1.4.0",
      "model_name": "ProgressStyleModel",
      "state": {
       "description_width": "initial"
      }
     },
     "ac7fab871a5f4a4089f0ac1174f6c720": {
      "model_module": "@jupyter-widgets/controls",
      "model_module_version": "1.4.0",
      "model_name": "ProgressStyleModel",
      "state": {
       "description_width": "initial"
      }
     },
     "ad07b3abb899420e9c8fd6ebb2d7279e": {
      "model_module": "@jupyter-widgets/base",
      "model_module_version": "1.1.0",
      "model_name": "LayoutModel",
      "state": {}
     },
     "ad8e471706634c91a6d60e797d4516a8": {
      "model_module": "@jupyter-widgets/base",
      "model_module_version": "1.1.0",
      "model_name": "LayoutModel",
      "state": {}
     },
     "adb3116e44b344c08a7d515b65b6189a": {
      "model_module": "@jupyter-widgets/controls",
      "model_module_version": "1.4.0",
      "model_name": "ProgressStyleModel",
      "state": {
       "description_width": "initial"
      }
     },
     "adf8e87446664415ba7e4b7a260cc095": {
      "model_module": "@jupyter-widgets/base",
      "model_module_version": "1.1.0",
      "model_name": "LayoutModel",
      "state": {}
     },
     "afbea07eed824570870e7158959e4a6d": {
      "model_module": "@jupyter-widgets/base",
      "model_module_version": "1.1.0",
      "model_name": "LayoutModel",
      "state": {}
     },
     "b081bfc58ebd4f238f616470ecefd836": {
      "model_module": "@jupyter-widgets/base",
      "model_module_version": "1.1.0",
      "model_name": "LayoutModel",
      "state": {}
     },
     "b0a95ea553574caaa92b23b45c772237": {
      "model_module": "@jupyter-widgets/base",
      "model_module_version": "1.1.0",
      "model_name": "LayoutModel",
      "state": {}
     },
     "b0f745a5f3ff40fda777ee12f95917f0": {
      "model_module": "@jupyter-widgets/controls",
      "model_module_version": "1.4.0",
      "model_name": "ProgressStyleModel",
      "state": {
       "description_width": "initial"
      }
     },
     "b1163508473d43ab9c3e799ccc7a6ad0": {
      "model_module": "@jupyter-widgets/controls",
      "model_module_version": "1.4.0",
      "model_name": "HBoxModel",
      "state": {
       "children": [
        "IPY_MODEL_5ea0c112214b4177be284c049d6e0e5a",
        "IPY_MODEL_cf9f2b71e874457183a24e566e107a8b"
       ],
       "layout": "IPY_MODEL_e5c3412a165f4efabc8ee2de85b223ab"
      }
     },
     "b1a4cd4858144924b3c095a96a804b6c": {
      "model_module": "@jupyter-widgets/controls",
      "model_module_version": "1.4.0",
      "model_name": "DescriptionStyleModel",
      "state": {
       "description_width": ""
      }
     },
     "b1a77b8c1cfa46278c44e765ad3d8312": {
      "model_module": "@jupyter-widgets/base",
      "model_module_version": "1.1.0",
      "model_name": "LayoutModel",
      "state": {}
     },
     "b1e04305bbf745399cfd632133345865": {
      "model_module": "@jupyter-widgets/controls",
      "model_module_version": "1.4.0",
      "model_name": "HTMLModel",
      "state": {
       "layout": "IPY_MODEL_fe0bf9968c46470bbf7468b208e9d712",
       "style": "IPY_MODEL_f7f5bd8b30f64c06bfc3b72946d3f5c2",
       "value": "100% 100/100 [00:01&lt;00:00, 85.99it/s]"
      }
     },
     "b3a40c4b01244c6fbd47faf273629649": {
      "model_module": "@jupyter-widgets/controls",
      "model_module_version": "1.4.0",
      "model_name": "ProgressStyleModel",
      "state": {
       "description_width": "initial"
      }
     },
     "b4fac140ba1f4b829c2a8f57ae9c0f30": {
      "model_module": "@jupyter-widgets/controls",
      "model_module_version": "1.4.0",
      "model_name": "DescriptionStyleModel",
      "state": {
       "description_width": ""
      }
     },
     "b55be82d27414ee69a4482c0f4e19c50": {
      "model_module": "@jupyter-widgets/controls",
      "model_module_version": "1.4.0",
      "model_name": "ProgressStyleModel",
      "state": {
       "description_width": "initial"
      }
     },
     "b5f5df95d0334b10b84c2630b942d414": {
      "model_module": "@jupyter-widgets/controls",
      "model_module_version": "1.4.0",
      "model_name": "HTMLModel",
      "state": {
       "layout": "IPY_MODEL_44bd4f84d3f84e54bd4a01b286785e77",
       "style": "IPY_MODEL_2e48fec213c74cba970c0a8abf39cc49",
       "value": "100% 100/100 [00:01&lt;00:00, 96.17it/s]"
      }
     },
     "b5fabcec0e2642259786770837d6c1da": {
      "model_module": "@jupyter-widgets/base",
      "model_module_version": "1.1.0",
      "model_name": "LayoutModel",
      "state": {}
     },
     "b6ae334300b344e583d6286cdcfdde80": {
      "model_module": "@jupyter-widgets/controls",
      "model_module_version": "1.4.0",
      "model_name": "HTMLModel",
      "state": {
       "layout": "IPY_MODEL_f4899b7351a84572b4b6fe625979d599",
       "style": "IPY_MODEL_b95be336a68041b99402b32c962c475e",
       "value": "100% 100/100 [00:01&lt;00:00, 95.82it/s]"
      }
     },
     "b8167076726d45faae9e07eecaafb719": {
      "model_module": "@jupyter-widgets/base",
      "model_module_version": "1.1.0",
      "model_name": "LayoutModel",
      "state": {}
     },
     "b94162b0f0ef4cf9a49bfdc18cf49227": {
      "model_module": "@jupyter-widgets/controls",
      "model_module_version": "1.4.0",
      "model_name": "IntProgressModel",
      "state": {
       "bar_style": "success",
       "description": "2nd loop",
       "layout": "IPY_MODEL_adf8e87446664415ba7e4b7a260cc095",
       "style": "IPY_MODEL_0d87c7c0f9894409b7a2e7cc40bf7837",
       "value": 100
      }
     },
     "b95be336a68041b99402b32c962c475e": {
      "model_module": "@jupyter-widgets/controls",
      "model_module_version": "1.4.0",
      "model_name": "DescriptionStyleModel",
      "state": {
       "description_width": ""
      }
     },
     "b968e93eabe244889ce3d807973764e8": {
      "model_module": "@jupyter-widgets/controls",
      "model_module_version": "1.4.0",
      "model_name": "HBoxModel",
      "state": {
       "children": [
        "IPY_MODEL_421f5aa1abb741818e2fee40a91d081c",
        "IPY_MODEL_a76937e52e8f46fe83ef017829fb689e"
       ],
       "layout": "IPY_MODEL_0c1a78e4fe294daebbcf6585faf18c30"
      }
     },
     "b993253a03bc44eabf4851ff767aaf86": {
      "model_module": "@jupyter-widgets/base",
      "model_module_version": "1.1.0",
      "model_name": "LayoutModel",
      "state": {}
     },
     "b9b0e2b7055940e4a1bcdd88566062b7": {
      "model_module": "@jupyter-widgets/controls",
      "model_module_version": "1.4.0",
      "model_name": "HBoxModel",
      "state": {
       "children": [
        "IPY_MODEL_6865aed32f0448d987fbcdc9c326556c",
        "IPY_MODEL_f38271730f344cceba73cc75cbee1ef1"
       ],
       "layout": "IPY_MODEL_b993253a03bc44eabf4851ff767aaf86"
      }
     },
     "ba479c4531694ad4aeddddf8a7380ab6": {
      "model_module": "@jupyter-widgets/base",
      "model_module_version": "1.1.0",
      "model_name": "LayoutModel",
      "state": {}
     },
     "bb2a293608b64e058e20c89af7bc88bf": {
      "model_module": "@jupyter-widgets/base",
      "model_module_version": "1.1.0",
      "model_name": "LayoutModel",
      "state": {}
     },
     "bc005d6013234e04bd58b3a07950bfa7": {
      "model_module": "@jupyter-widgets/base",
      "model_module_version": "1.1.0",
      "model_name": "LayoutModel",
      "state": {}
     },
     "bcb9aea7878e43bbbf8f9011225b20a4": {
      "model_module": "@jupyter-widgets/base",
      "model_module_version": "1.1.0",
      "model_name": "LayoutModel",
      "state": {}
     },
     "bcf0f0e524b04b91a0aafc9954b6ccb2": {
      "model_module": "@jupyter-widgets/base",
      "model_module_version": "1.1.0",
      "model_name": "LayoutModel",
      "state": {}
     },
     "bd5eecb194854bb1a713d0f624c0ac8d": {
      "model_module": "@jupyter-widgets/controls",
      "model_module_version": "1.4.0",
      "model_name": "SliderStyleModel",
      "state": {
       "description_width": ""
      }
     },
     "bd847f792cfe40dfb1287822eaeebe0b": {
      "model_module": "@jupyter-widgets/controls",
      "model_module_version": "1.4.0",
      "model_name": "HTMLModel",
      "state": {
       "layout": "IPY_MODEL_e34cf4f58f514d2f9832ac855f1ba464",
       "style": "IPY_MODEL_5350347dd6df4238b5aae442dfff980e",
       "value": "4it [00:04,  1.16s/it]"
      }
     },
     "be978802926c4d59ae11fe62caa7a317": {
      "model_module": "@jupyter-widgets/controls",
      "model_module_version": "1.4.0",
      "model_name": "ProgressStyleModel",
      "state": {
       "description_width": "initial"
      }
     },
     "beb411db3c454a6fa22c6750dad1ab43": {
      "model_module": "@jupyter-widgets/base",
      "model_module_version": "1.1.0",
      "model_name": "LayoutModel",
      "state": {}
     },
     "bef6125607d9471a92b93c10955f2646": {
      "model_module": "@jupyter-widgets/base",
      "model_module_version": "1.1.0",
      "model_name": "LayoutModel",
      "state": {}
     },
     "beff9fb51841478d943e31b4ce339674": {
      "model_module": "@jupyter-widgets/base",
      "model_module_version": "1.1.0",
      "model_name": "LayoutModel",
      "state": {}
     },
     "bfbda99ea0254ed886752e34afc11fad": {
      "model_module": "@jupyter-widgets/controls",
      "model_module_version": "1.4.0",
      "model_name": "HTMLModel",
      "state": {
       "layout": "IPY_MODEL_12560532ddaa45b7854a32036457c017",
       "style": "IPY_MODEL_6f0afef9d1794f4d8f83af53b6b7e9dd",
       "value": "100% 100/100 [00:01&lt;00:00, 86.41it/s]"
      }
     },
     "c178db95505e43e4b89034c2606e09e2": {
      "model_module": "@jupyter-widgets/controls",
      "model_module_version": "1.4.0",
      "model_name": "HTMLModel",
      "state": {
       "layout": "IPY_MODEL_42f025311965478c89d9aa071bd2743a",
       "style": "IPY_MODEL_318c2983ceb2466991e232631ba8ebfc",
       "value": "100% 100/100 [00:01&lt;00:00, 86.87it/s]"
      }
     },
     "c1eddd340eff45cdbd90ebd7b1fe13c5": {
      "model_module": "@jupyter-widgets/controls",
      "model_module_version": "1.4.0",
      "model_name": "ProgressStyleModel",
      "state": {
       "description_width": "initial"
      }
     },
     "c22998ad7dc643338c1708031eeba4b7": {
      "model_module": "@jupyter-widgets/controls",
      "model_module_version": "1.4.0",
      "model_name": "SliderStyleModel",
      "state": {
       "description_width": ""
      }
     },
     "c24607bed4914bb2b2e9a9c47af016d4": {
      "model_module": "@jupyter-widgets/controls",
      "model_module_version": "1.4.0",
      "model_name": "ProgressStyleModel",
      "state": {
       "description_width": "initial"
      }
     },
     "c3a7d4bbaf3a4a2ea2c035b02870ea12": {
      "model_module": "@jupyter-widgets/controls",
      "model_module_version": "1.4.0",
      "model_name": "HTMLModel",
      "state": {
       "layout": "IPY_MODEL_f4674c8c962e4a7799d413e42dd2428b",
       "style": "IPY_MODEL_f2c3d23596b34acc9596510fe50eefab",
       "value": "94it [00:01, 90.49it/s]"
      }
     },
     "c3c0777bc00d4a928c7e6454d24974fb": {
      "model_module": "@jupyter-widgets/base",
      "model_module_version": "1.1.0",
      "model_name": "LayoutModel",
      "state": {}
     },
     "c40ba43178e44637ab8055b7ef36094e": {
      "model_module": "@jupyter-widgets/base",
      "model_module_version": "1.1.0",
      "model_name": "LayoutModel",
      "state": {}
     },
     "c4258bdd21e44fd4bd390915b5a536b1": {
      "model_module": "@jupyter-widgets/controls",
      "model_module_version": "1.4.0",
      "model_name": "HTMLModel",
      "state": {
       "layout": "IPY_MODEL_bcb9aea7878e43bbbf8f9011225b20a4",
       "style": "IPY_MODEL_d93a3f3748b84d4da67d76322b59d0c7",
       "value": "100% 100/100 [00:01&lt;00:00, 95.76it/s]"
      }
     },
     "c42c82b096224793a93920830c2c9c63": {
      "model_module": "@jupyter-widgets/base",
      "model_module_version": "1.1.0",
      "model_name": "LayoutModel",
      "state": {}
     },
     "c5a69b667c8b4418ae299d03930565f3": {
      "model_module": "@jupyter-widgets/controls",
      "model_module_version": "1.4.0",
      "model_name": "HTMLModel",
      "state": {
       "layout": "IPY_MODEL_86d5903efa834dd19d1e7ad9fc9372b6",
       "style": "IPY_MODEL_0cb645b4ff7d4b01ba187f86b3065dbe",
       "value": "100% 10/10 [00:11&lt;00:00,  1.17s/it]"
      }
     },
     "c6445b2d438745db93ad42ca12dbe686": {
      "model_module": "@jupyter-widgets/base",
      "model_module_version": "1.1.0",
      "model_name": "LayoutModel",
      "state": {}
     },
     "c6d1464fb7884bfb9e62a2b03a1bb102": {
      "model_module": "@jupyter-widgets/controls",
      "model_module_version": "1.4.0",
      "model_name": "IntProgressModel",
      "state": {
       "bar_style": "success",
       "description": "1st loop",
       "layout": "IPY_MODEL_9427e8a57ac74cb0813bde03fa85dcda",
       "max": 1,
       "style": "IPY_MODEL_ac6ed4a7d887462f88d39ea6c88adfb1",
       "value": 1
      }
     },
     "c874e4fb0bf34364a475559b8c3e4283": {
      "model_module": "@jupyter-widgets/base",
      "model_module_version": "1.1.0",
      "model_name": "LayoutModel",
      "state": {}
     },
     "c8828d7afb3d4e8dbb3bc92b921be137": {
      "model_module": "@jupyter-widgets/base",
      "model_module_version": "1.1.0",
      "model_name": "LayoutModel",
      "state": {}
     },
     "c8a490d620354c74b771aaa3b1054220": {
      "model_module": "@jupyter-widgets/base",
      "model_module_version": "1.1.0",
      "model_name": "LayoutModel",
      "state": {}
     },
     "c90b4039aba146848e49bb24bac6e5e5": {
      "model_module": "@jupyter-widgets/controls",
      "model_module_version": "1.4.0",
      "model_name": "HBoxModel",
      "state": {
       "children": [
        "IPY_MODEL_d6c5fa9d25844280b8856b124eda6e50",
        "IPY_MODEL_b5f5df95d0334b10b84c2630b942d414"
       ],
       "layout": "IPY_MODEL_4e2c2c8b41444f2391b5b8f5373fdb27"
      }
     },
     "c9833784b4bf402982fb72edc7102a2c": {
      "model_module": "@jupyter-widgets/controls",
      "model_module_version": "1.4.0",
      "model_name": "ProgressStyleModel",
      "state": {
       "description_width": "initial"
      }
     },
     "ca7c6b0fad4d47f59a569738a205df99": {
      "model_module": "@jupyter-widgets/controls",
      "model_module_version": "1.4.0",
      "model_name": "IntSliderModel",
      "state": {
       "continuous_update": false,
       "description": "Test:",
       "layout": "IPY_MODEL_fbe2022b65834dd5ac0a3c458983b0de",
       "max": 10,
       "style": "IPY_MODEL_1e4debaab95043beb7c7d7e0c563ca1e",
       "value": 7
      }
     },
     "cade61b54990431d95702304931e6344": {
      "model_module": "@jupyter-widgets/controls",
      "model_module_version": "1.4.0",
      "model_name": "SliderStyleModel",
      "state": {
       "description_width": ""
      }
     },
     "cc060ac33e5f41da943d687442edd14e": {
      "model_module": "@jupyter-widgets/base",
      "model_module_version": "1.1.0",
      "model_name": "LayoutModel",
      "state": {}
     },
     "cc57ed979d9244af98f08d19d87c841f": {
      "model_module": "@jupyter-widgets/controls",
      "model_module_version": "1.4.0",
      "model_name": "HBoxModel",
      "state": {
       "children": [
        "IPY_MODEL_45f8a831a97b4f6093cd24df063b7ab0",
        "IPY_MODEL_42df77e1a5e7450fb38aba959477d764"
       ],
       "layout": "IPY_MODEL_659d6691b5b24ec4af4de6242e789c5a"
      }
     },
     "ccca49cfa6e0443e8867abeec649e8cf": {
      "model_module": "@jupyter-widgets/controls",
      "model_module_version": "1.4.0",
      "model_name": "DescriptionStyleModel",
      "state": {
       "description_width": ""
      }
     },
     "cd7e8cfbecd94194803fb288f53146c7": {
      "model_module": "@jupyter-widgets/controls",
      "model_module_version": "1.4.0",
      "model_name": "DescriptionStyleModel",
      "state": {
       "description_width": ""
      }
     },
     "cdc1b37309ce4d2c86190940e0a7604f": {
      "model_module": "@jupyter-widgets/controls",
      "model_module_version": "1.4.0",
      "model_name": "DescriptionStyleModel",
      "state": {
       "description_width": ""
      }
     },
     "ce14ad7aa57e46c995fb7dc00ea0cd56": {
      "model_module": "@jupyter-widgets/controls",
      "model_module_version": "1.4.0",
      "model_name": "SliderStyleModel",
      "state": {
       "description_width": ""
      }
     },
     "cee66ad982ba454999b856ec5713e93f": {
      "model_module": "@jupyter-widgets/controls",
      "model_module_version": "1.4.0",
      "model_name": "DescriptionStyleModel",
      "state": {
       "description_width": ""
      }
     },
     "cf32b97d602544a08dddfc4d5a6bc5cb": {
      "model_module": "@jupyter-widgets/controls",
      "model_module_version": "1.4.0",
      "model_name": "ProgressStyleModel",
      "state": {
       "description_width": "initial"
      }
     },
     "cf3bdc69fede4616835ec0d6291536ca": {
      "model_module": "@jupyter-widgets/base",
      "model_module_version": "1.1.0",
      "model_name": "LayoutModel",
      "state": {}
     },
     "cf63f9ce054f4a99b5f3f77033b273b6": {
      "model_module": "@jupyter-widgets/base",
      "model_module_version": "1.1.0",
      "model_name": "LayoutModel",
      "state": {}
     },
     "cf9f2b71e874457183a24e566e107a8b": {
      "model_module": "@jupyter-widgets/controls",
      "model_module_version": "1.4.0",
      "model_name": "HTMLModel",
      "state": {
       "layout": "IPY_MODEL_24c8476ed04b45ecb78610f1f8b81aef",
       "style": "IPY_MODEL_7237ddc68c924990beb8d405f2cf927a",
       "value": "100% 100/100 [00:01&lt;00:00, 86.43it/s]"
      }
     },
     "cfbb0ed3477e48e8816d68322fc5716c": {
      "model_module": "@jupyter-widgets/controls",
      "model_module_version": "1.4.0",
      "model_name": "IntProgressModel",
      "state": {
       "bar_style": "success",
       "description": "2nd loop",
       "layout": "IPY_MODEL_1596496cebb34f37a332aa9ee058456b",
       "style": "IPY_MODEL_279252b92c5947ee86f226a5dd26fba3",
       "value": 100
      }
     },
     "d02d1f439bff4c70807d6b6bae351790": {
      "model_module": "@jupyter-widgets/controls",
      "model_module_version": "1.4.0",
      "model_name": "ProgressStyleModel",
      "state": {
       "description_width": "initial"
      }
     },
     "d1bf137030ad45fba506a4e6c947911d": {
      "model_module": "@jupyter-widgets/controls",
      "model_module_version": "1.4.0",
      "model_name": "DescriptionStyleModel",
      "state": {
       "description_width": ""
      }
     },
     "d1c45d74006c4f229ad377d2f73c9a32": {
      "model_module": "@jupyter-widgets/controls",
      "model_module_version": "1.4.0",
      "model_name": "DropdownModel",
      "state": {
       "_options_labels": [
        "1",
        "2",
        "3"
       ],
       "description": "Number:",
       "index": 1,
       "layout": "IPY_MODEL_cc060ac33e5f41da943d687442edd14e",
       "style": "IPY_MODEL_15dbf8924b244c57bda8702ed3f7d588"
      }
     },
     "d1d0cc366ae24e289b62ce8919e48c1c": {
      "model_module": "@jupyter-widgets/controls",
      "model_module_version": "1.4.0",
      "model_name": "HBoxModel",
      "state": {
       "children": [
        "IPY_MODEL_7198ae0a9b0e4ce0a599b39e209baf28",
        "IPY_MODEL_a85e5132e25c4922bd812e5359f46eae"
       ],
       "layout": "IPY_MODEL_5f7f9e1d424e41da8b4867ba89da6ce7"
      }
     },
     "d5ce1cb448a64209a32005b0cc3f7fbe": {
      "model_module": "@jupyter-widgets/base",
      "model_module_version": "1.1.0",
      "model_name": "LayoutModel",
      "state": {}
     },
     "d604f174846045018cbbe04fe071b6f3": {
      "model_module": "@jupyter-widgets/controls",
      "model_module_version": "1.4.0",
      "model_name": "ProgressStyleModel",
      "state": {
       "description_width": "initial"
      }
     },
     "d66d259aead44892a82c51b89e0152c3": {
      "model_module": "@jupyter-widgets/controls",
      "model_module_version": "1.4.0",
      "model_name": "ProgressStyleModel",
      "state": {
       "description_width": "initial"
      }
     },
     "d6c5fa9d25844280b8856b124eda6e50": {
      "model_module": "@jupyter-widgets/controls",
      "model_module_version": "1.4.0",
      "model_name": "IntProgressModel",
      "state": {
       "bar_style": "success",
       "description": "2nd loop",
       "layout": "IPY_MODEL_8bb3814b45b9441295b618ee4155c84d",
       "style": "IPY_MODEL_048146510a15427a98074df2d9659d5b",
       "value": 100
      }
     },
     "d736e3a356b344cb845b956041a65dc6": {
      "model_module": "@jupyter-widgets/controls",
      "model_module_version": "1.4.0",
      "model_name": "DescriptionStyleModel",
      "state": {
       "description_width": ""
      }
     },
     "d739b38a3ae94dad9fa38844cd6af618": {
      "model_module": "@jupyter-widgets/controls",
      "model_module_version": "1.4.0",
      "model_name": "HTMLModel",
      "state": {
       "layout": "IPY_MODEL_2433dfc805f3424f950ba1a129ab8285",
       "style": "IPY_MODEL_8987f2b3a9ce427480dbf2b99e47b277",
       "value": "100% 100/100 [00:01&lt;00:00, 87.17it/s]"
      }
     },
     "d7ff2c774697467886ac1127261b854d": {
      "model_module": "@jupyter-widgets/base",
      "model_module_version": "1.1.0",
      "model_name": "LayoutModel",
      "state": {}
     },
     "d845fd58fd334d6cac0c001708f14809": {
      "model_module": "@jupyter-widgets/controls",
      "model_module_version": "1.4.0",
      "model_name": "IntSliderModel",
      "state": {
       "continuous_update": false,
       "description": "Test:",
       "layout": "IPY_MODEL_ac5e00cd71594bcd889172bce53389c2",
       "max": 10,
       "style": "IPY_MODEL_cade61b54990431d95702304931e6344",
       "value": 3
      }
     },
     "d8ce2aebe3ed48e88bb284cfc9f98bfc": {
      "model_module": "@jupyter-widgets/controls",
      "model_module_version": "1.4.0",
      "model_name": "HBoxModel",
      "state": {
       "children": [
        "IPY_MODEL_522d5f3b7b17461abcef779af9ce05ac",
        "IPY_MODEL_1393dd5a7a74485c9bb1432066120e28"
       ],
       "layout": "IPY_MODEL_1fadd117e9004e9da1aef7a6ee95cd2e"
      }
     },
     "d93a3f3748b84d4da67d76322b59d0c7": {
      "model_module": "@jupyter-widgets/controls",
      "model_module_version": "1.4.0",
      "model_name": "DescriptionStyleModel",
      "state": {
       "description_width": ""
      }
     },
     "da1dbdda456d4e1987c4709aedd2199f": {
      "model_module": "@jupyter-widgets/controls",
      "model_module_version": "1.4.0",
      "model_name": "IntProgressModel",
      "state": {
       "bar_style": "success",
       "description": "2nd loop",
       "layout": "IPY_MODEL_7c34b74a1abd44a6885ad0a79af9e855",
       "style": "IPY_MODEL_2597f90a84ba49a1a10ee49204ea2324",
       "value": 100
      }
     },
     "da60f3dd00af4693bde8e7f915bffe87": {
      "model_module": "@jupyter-widgets/base",
      "model_module_version": "1.1.0",
      "model_name": "LayoutModel",
      "state": {}
     },
     "daad730561aa4c0d9b7c610b1f52dfd1": {
      "model_module": "@jupyter-widgets/base",
      "model_module_version": "1.1.0",
      "model_name": "LayoutModel",
      "state": {}
     },
     "dae9841e937d4576a29183b76430a594": {
      "model_module": "@jupyter-widgets/base",
      "model_module_version": "1.1.0",
      "model_name": "LayoutModel",
      "state": {}
     },
     "daf2c296854d4ed698846d3e9cfb2326": {
      "model_module": "@jupyter-widgets/controls",
      "model_module_version": "1.4.0",
      "model_name": "HTMLModel",
      "state": {
       "layout": "IPY_MODEL_90554b562813410eaa03de71a1cfff6d",
       "style": "IPY_MODEL_b4fac140ba1f4b829c2a8f57ae9c0f30",
       "value": "100% 10/10 [00:10&lt;00:00,  1.05s/it]"
      }
     },
     "dc01c8b9bbba4dfd97e90f6a422b58aa": {
      "model_module": "@jupyter-widgets/controls",
      "model_module_version": "1.4.0",
      "model_name": "ProgressStyleModel",
      "state": {
       "description_width": "initial"
      }
     },
     "dc13252e51b248d5951c854d7d09bdce": {
      "model_module": "@jupyter-widgets/controls",
      "model_module_version": "1.4.0",
      "model_name": "HTMLModel",
      "state": {
       "layout": "IPY_MODEL_0509ca108d4d4230b04f70afc0516ba0",
       "style": "IPY_MODEL_7bfd8d08a1d248a299e1a3d98f526e8d",
       "value": "100% 100/100 [00:01&lt;00:00, 86.99it/s]"
      }
     },
     "dc2cdfbe88fe489ea2389e1505e120d6": {
      "model_module": "@jupyter-widgets/base",
      "model_module_version": "1.1.0",
      "model_name": "LayoutModel",
      "state": {}
     },
     "dd04de7c33b445e0ae0e553f43094717": {
      "model_module": "@jupyter-widgets/base",
      "model_module_version": "1.1.0",
      "model_name": "LayoutModel",
      "state": {}
     },
     "dd51140f1ecb40d49758fb171b99ee81": {
      "model_module": "@jupyter-widgets/controls",
      "model_module_version": "1.4.0",
      "model_name": "DescriptionStyleModel",
      "state": {
       "description_width": ""
      }
     },
     "de33f1008a2f41af98ee2c57f4c67b9e": {
      "model_module": "@jupyter-widgets/controls",
      "model_module_version": "1.4.0",
      "model_name": "DescriptionStyleModel",
      "state": {
       "description_width": ""
      }
     },
     "dffef6c564244142ac1ae30f8e113526": {
      "model_module": "@jupyter-widgets/base",
      "model_module_version": "1.1.0",
      "model_name": "LayoutModel",
      "state": {}
     },
     "e0311c6b8f77454c97b6c2cb28683df8": {
      "model_module": "@jupyter-widgets/controls",
      "model_module_version": "1.4.0",
      "model_name": "HBoxModel",
      "state": {
       "children": [
        "IPY_MODEL_8bef50af7c2b43479a97af6d3753e754",
        "IPY_MODEL_f29049d8fea04498920aa7f09ffb56d0"
       ],
       "layout": "IPY_MODEL_734d6b5d7d5347409a54ec7506b37b8a"
      }
     },
     "e20748f6d332489ebb4464f28537b03b": {
      "model_module": "@jupyter-widgets/base",
      "model_module_version": "1.1.0",
      "model_name": "LayoutModel",
      "state": {}
     },
     "e2316b7d1fe1477da78fb260b7a6b92a": {
      "model_module": "@jupyter-widgets/base",
      "model_module_version": "1.1.0",
      "model_name": "LayoutModel",
      "state": {}
     },
     "e25a11758ad14c509bfb41bd6bc136da": {
      "model_module": "@jupyter-widgets/controls",
      "model_module_version": "1.4.0",
      "model_name": "DescriptionStyleModel",
      "state": {
       "description_width": ""
      }
     },
     "e34cf4f58f514d2f9832ac855f1ba464": {
      "model_module": "@jupyter-widgets/base",
      "model_module_version": "1.1.0",
      "model_name": "LayoutModel",
      "state": {}
     },
     "e396e5658e2b4a9085bb1c4b8c087434": {
      "model_module": "@jupyter-widgets/base",
      "model_module_version": "1.1.0",
      "model_name": "LayoutModel",
      "state": {}
     },
     "e4d394478b0f458ba1d2e727b86da0b3": {
      "model_module": "@jupyter-widgets/controls",
      "model_module_version": "1.4.0",
      "model_name": "HTMLModel",
      "state": {
       "layout": "IPY_MODEL_e7c1064761c74cb9a775defaba8e2b90",
       "style": "IPY_MODEL_a9a44a928a6c43fcb7d7b24d16d4131b",
       "value": "100% 100/100 [00:01&lt;00:00, 87.13it/s]"
      }
     },
     "e59079f366d842d4af6a6c5a0d58b0be": {
      "model_module": "@jupyter-widgets/base",
      "model_module_version": "1.1.0",
      "model_name": "LayoutModel",
      "state": {}
     },
     "e5c3412a165f4efabc8ee2de85b223ab": {
      "model_module": "@jupyter-widgets/base",
      "model_module_version": "1.1.0",
      "model_name": "LayoutModel",
      "state": {}
     },
     "e620782933d443c5a039fc0700ae8659": {
      "model_module": "@jupyter-widgets/controls",
      "model_module_version": "1.4.0",
      "model_name": "IntProgressModel",
      "state": {
       "bar_style": "info",
       "description": "2nd loop",
       "layout": "IPY_MODEL_bef6125607d9471a92b93c10955f2646",
       "max": 1,
       "style": "IPY_MODEL_7d5a9672d95b499092cd78c97b1cbacb",
       "value": 1
      }
     },
     "e630f2f2878541e6abbf14c670cb09be": {
      "model_module": "@jupyter-widgets/controls",
      "model_module_version": "1.4.0",
      "model_name": "IntSliderModel",
      "state": {
       "continuous_update": false,
       "description": "Test:",
       "layout": "IPY_MODEL_06b195ae444f4643b011681891435a7c",
       "max": 10,
       "style": "IPY_MODEL_bd5eecb194854bb1a713d0f624c0ac8d",
       "value": 3
      }
     },
     "e6ac13b19cb045d5b683bc3b517fb871": {
      "model_module": "@jupyter-widgets/controls",
      "model_module_version": "1.4.0",
      "model_name": "IntProgressModel",
      "state": {
       "bar_style": "info",
       "description": "2nd loop",
       "layout": "IPY_MODEL_58e75d5729c04c67bdcb29cd4ab1433d",
       "max": 1,
       "style": "IPY_MODEL_c9833784b4bf402982fb72edc7102a2c",
       "value": 1
      }
     },
     "e7c1064761c74cb9a775defaba8e2b90": {
      "model_module": "@jupyter-widgets/base",
      "model_module_version": "1.1.0",
      "model_name": "LayoutModel",
      "state": {}
     },
     "e827a5361c764a77a2eea363b14c07e4": {
      "model_module": "@jupyter-widgets/controls",
      "model_module_version": "1.4.0",
      "model_name": "DescriptionStyleModel",
      "state": {
       "description_width": ""
      }
     },
     "ea326fd7cb55488f916fa76f8adcb7c4": {
      "model_module": "@jupyter-widgets/base",
      "model_module_version": "1.1.0",
      "model_name": "LayoutModel",
      "state": {}
     },
     "ea4ebab7ee404e62b5ff4a526da426ad": {
      "model_module": "@jupyter-widgets/base",
      "model_module_version": "1.1.0",
      "model_name": "LayoutModel",
      "state": {}
     },
     "eaa6fc7170084e78a45d034fcd2463c6": {
      "model_module": "@jupyter-widgets/base",
      "model_module_version": "1.1.0",
      "model_name": "LayoutModel",
      "state": {}
     },
     "ec910323ab104c29be211e43411a892d": {
      "model_module": "@jupyter-widgets/base",
      "model_module_version": "1.1.0",
      "model_name": "LayoutModel",
      "state": {}
     },
     "eccac6e332af4ee69926aff467154d00": {
      "model_module": "@jupyter-widgets/base",
      "model_module_version": "1.1.0",
      "model_name": "LayoutModel",
      "state": {}
     },
     "ed30abe4c6f84760824b1af983da41e3": {
      "model_module": "@jupyter-widgets/controls",
      "model_module_version": "1.4.0",
      "model_name": "HTMLModel",
      "state": {
       "layout": "IPY_MODEL_ec910323ab104c29be211e43411a892d",
       "style": "IPY_MODEL_5ed5f5e8cab144b2932f969797eabcf6",
       "value": "100% 100/100 [00:01&lt;00:00, 87.00it/s]"
      }
     },
     "ed7098d200954101a435ae461bfb6237": {
      "model_module": "@jupyter-widgets/base",
      "model_module_version": "1.1.0",
      "model_name": "LayoutModel",
      "state": {}
     },
     "eda17b573dd14ff480b85c4c11c7980a": {
      "model_module": "@jupyter-widgets/base",
      "model_module_version": "1.1.0",
      "model_name": "LayoutModel",
      "state": {}
     },
     "edcaeecc2bbf4f098b476da849164d0a": {
      "model_module": "@jupyter-widgets/base",
      "model_module_version": "1.1.0",
      "model_name": "LayoutModel",
      "state": {}
     },
     "ef19d7579b224121a64cf6e112e3dbe7": {
      "model_module": "@jupyter-widgets/controls",
      "model_module_version": "1.4.0",
      "model_name": "DescriptionStyleModel",
      "state": {
       "description_width": ""
      }
     },
     "ef3e623141a34e57aceb7d6db6d6316b": {
      "model_module": "@jupyter-widgets/base",
      "model_module_version": "1.1.0",
      "model_name": "LayoutModel",
      "state": {}
     },
     "f0c36c5799044f2597a93cbaa5cafb1e": {
      "model_module": "@jupyter-widgets/controls",
      "model_module_version": "1.4.0",
      "model_name": "HBoxModel",
      "state": {
       "children": [
        "IPY_MODEL_b94162b0f0ef4cf9a49bfdc18cf49227",
        "IPY_MODEL_c4258bdd21e44fd4bd390915b5a536b1"
       ],
       "layout": "IPY_MODEL_e20748f6d332489ebb4464f28537b03b"
      }
     },
     "f1f27a0b8a59400d986fcbce2add8d64": {
      "model_module": "@jupyter-widgets/controls",
      "model_module_version": "1.4.0",
      "model_name": "ProgressStyleModel",
      "state": {
       "description_width": "initial"
      }
     },
     "f1ff5c04d3de41d6b5404845df23cb49": {
      "model_module": "@jupyter-widgets/controls",
      "model_module_version": "1.4.0",
      "model_name": "IntProgressModel",
      "state": {
       "bar_style": "success",
       "description": "2nd loop",
       "layout": "IPY_MODEL_e59079f366d842d4af6a6c5a0d58b0be",
       "style": "IPY_MODEL_9bcd09800760412c9d1559a78954aa1f",
       "value": 100
      }
     },
     "f29049d8fea04498920aa7f09ffb56d0": {
      "model_module": "@jupyter-widgets/controls",
      "model_module_version": "1.4.0",
      "model_name": "HTMLModel",
      "state": {
       "layout": "IPY_MODEL_7640cdabc31f48fca570ae488a698383",
       "style": "IPY_MODEL_1368cd4021ce49a5b5838ed798645616",
       "value": "100% 100/100 [00:01&lt;00:00, 87.09it/s]"
      }
     },
     "f2993d9c357745f9b7992a6ba7f21bf5": {
      "model_module": "@jupyter-widgets/base",
      "model_module_version": "1.1.0",
      "model_name": "LayoutModel",
      "state": {}
     },
     "f2c3d23596b34acc9596510fe50eefab": {
      "model_module": "@jupyter-widgets/controls",
      "model_module_version": "1.4.0",
      "model_name": "DescriptionStyleModel",
      "state": {
       "description_width": ""
      }
     },
     "f37a56f6c74642a1a3250893ba7e1379": {
      "model_module": "@jupyter-widgets/base",
      "model_module_version": "1.1.0",
      "model_name": "LayoutModel",
      "state": {}
     },
     "f38271730f344cceba73cc75cbee1ef1": {
      "model_module": "@jupyter-widgets/controls",
      "model_module_version": "1.4.0",
      "model_name": "HTMLModel",
      "state": {
       "layout": "IPY_MODEL_2ad47021421b4689b2ef650b6a0b2410",
       "style": "IPY_MODEL_4897ddcd0b5f43efba9c020552f009ac",
       "value": "100% 100/100 [00:01&lt;00:00, 96.13it/s]"
      }
     },
     "f433d640ec7b41628d5574b864bbbcaa": {
      "model_module": "@jupyter-widgets/controls",
      "model_module_version": "1.4.0",
      "model_name": "SliderStyleModel",
      "state": {
       "description_width": ""
      }
     },
     "f4674c8c962e4a7799d413e42dd2428b": {
      "model_module": "@jupyter-widgets/base",
      "model_module_version": "1.1.0",
      "model_name": "LayoutModel",
      "state": {}
     },
     "f4899b7351a84572b4b6fe625979d599": {
      "model_module": "@jupyter-widgets/base",
      "model_module_version": "1.1.0",
      "model_name": "LayoutModel",
      "state": {}
     },
     "f6b0e7286e0041a992eb3367bba099c2": {
      "model_module": "@jupyter-widgets/base",
      "model_module_version": "1.1.0",
      "model_name": "LayoutModel",
      "state": {}
     },
     "f6cd0cc6f86344efbe4f257803987d81": {
      "model_module": "@jupyter-widgets/controls",
      "model_module_version": "1.4.0",
      "model_name": "HBoxModel",
      "state": {
       "children": [
        "IPY_MODEL_fe7ec0a21c3248f5ab40832b2e9a26c1",
        "IPY_MODEL_d739b38a3ae94dad9fa38844cd6af618"
       ],
       "layout": "IPY_MODEL_2b7e29b08f4e40d1bc8bec84b42ee5ab"
      }
     },
     "f741865b0be44cee9fadb84fc12818ed": {
      "model_module": "@jupyter-widgets/controls",
      "model_module_version": "1.4.0",
      "model_name": "HTMLModel",
      "state": {
       "layout": "IPY_MODEL_dc2cdfbe88fe489ea2389e1505e120d6",
       "style": "IPY_MODEL_d736e3a356b344cb845b956041a65dc6",
       "value": "97it [00:01, 96.62it/s]"
      }
     },
     "f7f5bd8b30f64c06bfc3b72946d3f5c2": {
      "model_module": "@jupyter-widgets/controls",
      "model_module_version": "1.4.0",
      "model_name": "DescriptionStyleModel",
      "state": {
       "description_width": ""
      }
     },
     "f8ee957b8ffa4576aea15d8f3f2f8e3a": {
      "model_module": "@jupyter-widgets/base",
      "model_module_version": "1.1.0",
      "model_name": "LayoutModel",
      "state": {}
     },
     "f989a1ec7cfa44bda8b376fa73626012": {
      "model_module": "@jupyter-widgets/controls",
      "model_module_version": "1.4.0",
      "model_name": "IntProgressModel",
      "state": {
       "bar_style": "success",
       "description": "2nd loop",
       "layout": "IPY_MODEL_500d3a26ccfb4bc6a7a467a2bd42a67c",
       "style": "IPY_MODEL_52f456e87ba64d1eb04afab1f013e451",
       "value": 100
      }
     },
     "f98a661e30fb4b579db36901aa101ff0": {
      "model_module": "@jupyter-widgets/controls",
      "model_module_version": "1.4.0",
      "model_name": "HTMLModel",
      "state": {
       "layout": "IPY_MODEL_c6445b2d438745db93ad42ca12dbe686",
       "style": "IPY_MODEL_de33f1008a2f41af98ee2c57f4c67b9e",
       "value": "100% 100/100 [00:01&lt;00:00, 87.29it/s]"
      }
     },
     "f9d5e736d4bd4b56844bd607e27df497": {
      "model_module": "@jupyter-widgets/controls",
      "model_module_version": "1.4.0",
      "model_name": "HBoxModel",
      "state": {
       "children": [
        "IPY_MODEL_54396e1f40904975b4d4693dfddc14d8",
        "IPY_MODEL_29ff00ca3d944efab7b76e325d66b06d"
       ],
       "layout": "IPY_MODEL_afbea07eed824570870e7158959e4a6d"
      }
     },
     "fa32156cf62340898a4fd85f6e953563": {
      "model_module": "@jupyter-widgets/base",
      "model_module_version": "1.1.0",
      "model_name": "LayoutModel",
      "state": {}
     },
     "fa68520fe7c443438acd6f9e789f45c7": {
      "model_module": "@jupyter-widgets/controls",
      "model_module_version": "1.4.0",
      "model_name": "IntSliderModel",
      "state": {
       "continuous_update": false,
       "description": "Test:",
       "layout": "IPY_MODEL_775cadedd041414194f4b38ffaf3ccde",
       "max": 10,
       "style": "IPY_MODEL_ce14ad7aa57e46c995fb7dc00ea0cd56",
       "value": 7
      }
     },
     "fb2109b63baf43a79048b33d74276572": {
      "model_module": "@jupyter-widgets/controls",
      "model_module_version": "1.4.0",
      "model_name": "DescriptionStyleModel",
      "state": {
       "description_width": ""
      }
     },
     "fbe2022b65834dd5ac0a3c458983b0de": {
      "model_module": "@jupyter-widgets/base",
      "model_module_version": "1.1.0",
      "model_name": "LayoutModel",
      "state": {}
     },
     "fc91b64d0721490dacddf1bf60b9bfc2": {
      "model_module": "@jupyter-widgets/controls",
      "model_module_version": "1.4.0",
      "model_name": "HBoxModel",
      "state": {
       "children": [
        "IPY_MODEL_1443da52a4e444db93fa98eb53ac0804",
        "IPY_MODEL_0f55332f513a4e148433ad4b6fad191b"
       ],
       "layout": "IPY_MODEL_feb4262f69ef42e0add6b1f110a9895c"
      }
     },
     "fcc029813ec849b58c9b204439d2d5c9": {
      "model_module": "@jupyter-widgets/controls",
      "model_module_version": "1.4.0",
      "model_name": "ProgressStyleModel",
      "state": {
       "description_width": "initial"
      }
     },
     "fd3d821d014c475c8991842e4b0ea4a7": {
      "model_module": "@jupyter-widgets/base",
      "model_module_version": "1.1.0",
      "model_name": "LayoutModel",
      "state": {}
     },
     "fdf632bf1f6c4252a34ae64c6b509bb8": {
      "model_module": "@jupyter-widgets/base",
      "model_module_version": "1.1.0",
      "model_name": "LayoutModel",
      "state": {}
     },
     "fe04df87aee74794b62929024183bfcb": {
      "model_module": "@jupyter-widgets/base",
      "model_module_version": "1.1.0",
      "model_name": "LayoutModel",
      "state": {}
     },
     "fe0bf9968c46470bbf7468b208e9d712": {
      "model_module": "@jupyter-widgets/base",
      "model_module_version": "1.1.0",
      "model_name": "LayoutModel",
      "state": {}
     },
     "fe7ec0a21c3248f5ab40832b2e9a26c1": {
      "model_module": "@jupyter-widgets/controls",
      "model_module_version": "1.4.0",
      "model_name": "IntProgressModel",
      "state": {
       "bar_style": "success",
       "description": "2nd loop",
       "layout": "IPY_MODEL_d5ce1cb448a64209a32005b0cc3f7fbe",
       "style": "IPY_MODEL_87a6737b601143dfa5dc7c988e1a1874",
       "value": 100
      }
     },
     "feb4262f69ef42e0add6b1f110a9895c": {
      "model_module": "@jupyter-widgets/base",
      "model_module_version": "1.1.0",
      "model_name": "LayoutModel",
      "state": {}
     },
     "fff6ac5fe7b449508c86b3c9fd4b17a2": {
      "model_module": "@jupyter-widgets/controls",
      "model_module_version": "1.4.0",
      "model_name": "HTMLModel",
      "state": {
       "layout": "IPY_MODEL_c42c82b096224793a93920830c2c9c63",
       "style": "IPY_MODEL_32993dec4d42430fb19366b98ee3535b",
       "value": "94it [00:01, 90.70it/s]"
      }
     }
    },
    "version_major": 2,
    "version_minor": 0
   }
  }
 },
 "nbformat": 4,
 "nbformat_minor": 2
}
